{
 "cells": [
  {
   "cell_type": "code",
   "execution_count": null,
   "id": "b31c5991",
   "metadata": {},
   "outputs": [],
   "source": [
    "import pandas as pd\n",
    "import numpy as np\n",
    "import plotly.express as px\n",
    "import plotly.graph_objects as go\n",
    "from sklearn_benchmarks.utils.plotting import make_hover_template, order_columns"
   ]
  },
  {
   "cell_type": "code",
   "execution_count": null,
   "id": "8bbacad0",
   "metadata": {},
   "outputs": [],
   "source": [
    "df = pd.read_csv(\"results/benchmarking/sklearn_KNeighborsClassifier_kd_tree.csv\")"
   ]
  },
  {
   "cell_type": "code",
   "execution_count": null,
   "id": "94830a97",
   "metadata": {},
   "outputs": [],
   "source": [
    "df = df.query(\"function == 'predict'\")"
   ]
  },
  {
   "cell_type": "code",
   "execution_count": null,
   "id": "ff1ce96d",
   "metadata": {},
   "outputs": [],
   "source": [
    "df = df.fillna(value={\"use_onnx_runtime\": False})"
   ]
  },
  {
   "cell_type": "code",
   "execution_count": null,
   "id": "32037b43",
   "metadata": {},
   "outputs": [],
   "source": [
    "merged_df = df.query(\"use_onnx_runtime == True\").merge(\n",
    "    df.query(\"use_onnx_runtime == False\"),\n",
    "    on=[\"hyperparams_digest\", \"dataset_digest\"],\n",
    "    how=\"inner\",\n",
    "    suffixes=[\"\", \"_onnx\"],\n",
    ")"
   ]
  },
  {
   "cell_type": "code",
   "execution_count": null,
   "id": "8bf1fe26",
   "metadata": {},
   "outputs": [],
   "source": [
    "merged_df = merged_df.dropna(axis=1)\n",
    "columns_to_drop = merged_df.filter(regex=\"_onnx$\").columns.tolist()\n",
    "columns_to_drop = filter(lambda col: \"mean\" not in col and \"stdev\" not in col, columns_to_drop)\n",
    "merged_df.drop(\n",
    "    columns_to_drop,\n",
    "    axis=1,\n",
    "    inplace=True,\n",
    ")"
   ]
  },
  {
   "cell_type": "code",
   "execution_count": null,
   "id": "8cf45350",
   "metadata": {},
   "outputs": [],
   "source": [
    "merged_df[\"speedup\"] = merged_df[\"mean\"] / merged_df[\"mean_onnx\"]"
   ]
  },
  {
   "cell_type": "code",
   "execution_count": null,
   "id": "3ab6e6c5",
   "metadata": {},
   "outputs": [],
   "source": [
    "merged_df[\"stdev_speedup\"] = merged_df[\"speedup\"] * (\n",
    "    np.sqrt(\n",
    "        (merged_df[\"stdev\"] / merged_df[\"mean\"]) ** 2\n",
    "        + (merged_df[\"stdev_onnx\"] / merged_df[\"mean_onnx\"]) ** 2\n",
    "    )\n",
    ")"
   ]
  },
  {
   "cell_type": "code",
   "execution_count": null,
   "id": "d8e30923",
   "metadata": {},
   "outputs": [],
   "source": [
    "x = [i + 1 for i in range(len(merged_df))]"
   ]
  },
  {
   "cell_type": "code",
   "execution_count": null,
   "id": "acc60aeb",
   "metadata": {},
   "outputs": [],
   "source": [
    "y = merged_df[\"speedup\"]"
   ]
  },
  {
   "cell_type": "markdown",
   "id": "21bf2fa6",
   "metadata": {},
   "source": [
    "# `scikit-learn` vs. `ONNX Runtime (Microsoft)` prediction benchmarks"
   ]
  },
  {
   "cell_type": "code",
   "execution_count": null,
   "id": "8b4b5188",
   "metadata": {},
   "outputs": [],
   "source": [
    "fig = go.Figure(\n",
    "    [\n",
    "        go.Bar(\n",
    "            x=x,\n",
    "            y=y,\n",
    "            hovertemplate=make_hover_template(merged_df),\n",
    "            customdata=merged_df[order_columns(merged_df)].values,\n",
    "        )\n",
    "    ]\n",
    ")\n",
    "fig.show()"
   ]
  }
 ],
 "metadata": {
  "kernelspec": {
   "display_name": "Python 3",
   "language": "python",
   "name": "python3"
  },
  "language_info": {
   "codemirror_mode": {
    "name": "ipython",
    "version": 3
   },
   "file_extension": ".py",
   "mimetype": "text/x-python",
   "name": "python",
   "nbconvert_exporter": "python",
   "pygments_lexer": "ipython3",
   "version": "3.9.4"
  }
 },
 "nbformat": 4,
 "nbformat_minor": 5
}
