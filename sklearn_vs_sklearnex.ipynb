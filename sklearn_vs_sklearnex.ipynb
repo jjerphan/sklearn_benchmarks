{
 "cells": [
  {
   "cell_type": "code",
   "execution_count": null,
   "id": "6af7537b",
   "metadata": {},
   "outputs": [],
   "source": [
    "from sklearn_benchmarks.report import HPMatchReporting"
   ]
  },
  {
   "cell_type": "markdown",
   "id": "66a18ca4",
   "metadata": {},
   "source": [
    "# `scikit-learn` vs. `scikit-learn-intelex (Intel® oneAPI)` benchmarks"
   ]
  },
  {
   "cell_type": "code",
   "execution_count": null,
   "id": "637fe6ec",
   "metadata": {
    "scrolled": false
   },
   "outputs": [],
   "source": [
    "HPMatchReporting().run()"
   ]
  }
 ],
 "metadata": {
  "kernelspec": {
   "display_name": "Python 3",
   "language": "python",
   "name": "python3"
  },
  "language_info": {
   "codemirror_mode": {
    "name": "ipython",
    "version": 3
   },
   "file_extension": ".py",
   "mimetype": "text/x-python",
   "name": "python",
   "nbconvert_exporter": "python",
   "pygments_lexer": "ipython3",
   "version": "3.9.4"
  }
 },
 "nbformat": 4,
 "nbformat_minor": 5
}
