{
 "cells": [
  {
   "cell_type": "code",
   "execution_count": 1,
   "id": "6af7537b",
   "metadata": {},
   "outputs": [],
   "source": [
    "from sklearn_benchmarks.report import Reporting, ReportingHpo, print_time_report, print_env_info\n",
    "import pandas as pd\n",
    "pd.set_option('display.max_colwidth', None)\n",
    "pd.set_option('display.max_columns', None)\n",
    "pd.set_option('display.max_rows', None)"
   ]
  },
  {
   "cell_type": "markdown",
   "id": "66a18ca4",
   "metadata": {},
   "source": [
    "# `scikit-learn` vs. `scikit-learn-intelex (Intel® oneAPI)` benchmarks: perfect hyperparameters match"
   ]
  },
  {
   "cell_type": "code",
   "execution_count": 2,
   "id": "2ffe6f72",
   "metadata": {},
   "outputs": [
    {
     "data": {
      "text/markdown": [
       "# Time report"
      ],
      "text/plain": [
       "<IPython.core.display.Markdown object>"
      ]
     },
     "metadata": {},
     "output_type": "display_data"
    },
    {
     "data": {
      "text/markdown": [
       "**daal4py_KMeans_short**: 0h 0m 1s"
      ],
      "text/plain": [
       "<IPython.core.display.Markdown object>"
      ]
     },
     "metadata": {},
     "output_type": "display_data"
    },
    {
     "data": {
      "text/markdown": [
       "**daal4py_Ridge**: 0h 0m 2s"
      ],
      "text/plain": [
       "<IPython.core.display.Markdown object>"
      ]
     },
     "metadata": {},
     "output_type": "display_data"
    },
    {
     "data": {
      "text/markdown": [
       "**KMeans_short**: 0h 0m 3s"
      ],
      "text/plain": [
       "<IPython.core.display.Markdown object>"
      ]
     },
     "metadata": {},
     "output_type": "display_data"
    },
    {
     "data": {
      "text/markdown": [
       "**daal4py_LogisticRegression**: 0h 0m 4s"
      ],
      "text/plain": [
       "<IPython.core.display.Markdown object>"
      ]
     },
     "metadata": {},
     "output_type": "display_data"
    },
    {
     "data": {
      "text/markdown": [
       "**daal4py_KMeans_tall**: 0h 0m 8s"
      ],
      "text/plain": [
       "<IPython.core.display.Markdown object>"
      ]
     },
     "metadata": {},
     "output_type": "display_data"
    },
    {
     "data": {
      "text/markdown": [
       "**Ridge**: 0h 0m 11s"
      ],
      "text/plain": [
       "<IPython.core.display.Markdown object>"
      ]
     },
     "metadata": {},
     "output_type": "display_data"
    },
    {
     "data": {
      "text/markdown": [
       "**LogisticRegression**: 0h 0m 21s"
      ],
      "text/plain": [
       "<IPython.core.display.Markdown object>"
      ]
     },
     "metadata": {},
     "output_type": "display_data"
    },
    {
     "data": {
      "text/markdown": [
       "**KMeans_tall**: 0h 0m 25s"
      ],
      "text/plain": [
       "<IPython.core.display.Markdown object>"
      ]
     },
     "metadata": {},
     "output_type": "display_data"
    },
    {
     "data": {
      "text/markdown": [
       "**daal4py_KNeighborsClassifier_kd_tree**: 0h 0m 29s"
      ],
      "text/plain": [
       "<IPython.core.display.Markdown object>"
      ]
     },
     "metadata": {},
     "output_type": "display_data"
    },
    {
     "data": {
      "text/markdown": [
       "**KNeighborsClassifier_kd_tree**: 0h 2m 45s"
      ],
      "text/plain": [
       "<IPython.core.display.Markdown object>"
      ]
     },
     "metadata": {},
     "output_type": "display_data"
    },
    {
     "data": {
      "text/markdown": [
       "**daal4py_KNeighborsClassifier**: 0h 2m 48s"
      ],
      "text/plain": [
       "<IPython.core.display.Markdown object>"
      ]
     },
     "metadata": {},
     "output_type": "display_data"
    },
    {
     "data": {
      "text/markdown": [
       "**xgboost**: 0h 5m 9s"
      ],
      "text/plain": [
       "<IPython.core.display.Markdown object>"
      ]
     },
     "metadata": {},
     "output_type": "display_data"
    },
    {
     "data": {
      "text/markdown": [
       "**catboost_symmetric**: 0h 5m 9s"
      ],
      "text/plain": [
       "<IPython.core.display.Markdown object>"
      ]
     },
     "metadata": {},
     "output_type": "display_data"
    },
    {
     "data": {
      "text/markdown": [
       "**lightgbm**: 0h 5m 10s"
      ],
      "text/plain": [
       "<IPython.core.display.Markdown object>"
      ]
     },
     "metadata": {},
     "output_type": "display_data"
    },
    {
     "data": {
      "text/markdown": [
       "**HistGradientBoostingClassifier**: 0h 5m 13s"
      ],
      "text/plain": [
       "<IPython.core.display.Markdown object>"
      ]
     },
     "metadata": {},
     "output_type": "display_data"
    },
    {
     "data": {
      "text/markdown": [
       "**catboost_lossguide**: 0h 5m 49s"
      ],
      "text/plain": [
       "<IPython.core.display.Markdown object>"
      ]
     },
     "metadata": {},
     "output_type": "display_data"
    },
    {
     "data": {
      "text/markdown": [
       "**KNeighborsClassifier**: 0h 34m 8s"
      ],
      "text/plain": [
       "<IPython.core.display.Markdown object>"
      ]
     },
     "metadata": {},
     "output_type": "display_data"
    },
    {
     "data": {
      "text/markdown": [
       "**total**: 1h 8m 2s"
      ],
      "text/plain": [
       "<IPython.core.display.Markdown object>"
      ]
     },
     "metadata": {},
     "output_type": "display_data"
    }
   ],
   "source": [
    "print_time_report()"
   ]
  },
  {
   "cell_type": "code",
   "execution_count": 3,
   "id": "3d295b41",
   "metadata": {},
   "outputs": [
    {
     "data": {
      "text/markdown": [
       "# Benchmark environment"
      ],
      "text/plain": [
       "<IPython.core.display.Markdown object>"
      ]
     },
     "metadata": {},
     "output_type": "display_data"
    },
    {
     "name": "stdout",
     "output_type": "stream",
     "text": [
      "{\n",
      "  \"system_info\": {\n",
      "    \"python\": \"3.8.10 | packaged by conda-forge | (default, May 11 2021, 07:01:05)  [GCC 9.3.0]\",\n",
      "    \"executable\": \"/usr/share/miniconda/envs/sklbench/bin/python\",\n",
      "    \"machine\": \"Linux-5.8.0-1033-azure-x86_64-with-glibc2.10\"\n",
      "  },\n",
      "  \"dependencies_info\": {\n",
      "    \"pip\": \"21.1.2\",\n",
      "    \"setuptools\": \"49.6.0.post20210108\",\n",
      "    \"sklearn\": \"1.0.dev0\",\n",
      "    \"numpy\": \"1.21.0\",\n",
      "    \"scipy\": \"1.6.3\",\n",
      "    \"Cython\": null,\n",
      "    \"pandas\": \"1.2.5\",\n",
      "    \"matplotlib\": \"3.4.2\",\n",
      "    \"joblib\": \"1.0.1\",\n",
      "    \"threadpoolctl\": \"2.1.0\"\n",
      "  },\n",
      "  \"threadpool_info\": [\n",
      "    {\n",
      "      \"filepath\": \"/usr/share/miniconda/envs/sklbench/lib/libopenblasp-r0.3.15.so\",\n",
      "      \"prefix\": \"libopenblas\",\n",
      "      \"user_api\": \"blas\",\n",
      "      \"internal_api\": \"openblas\",\n",
      "      \"version\": \"0.3.15\",\n",
      "      \"num_threads\": 2,\n",
      "      \"threading_layer\": \"pthreads\"\n",
      "    },\n",
      "    {\n",
      "      \"filepath\": \"/usr/share/miniconda/envs/sklbench/lib/python3.8/site-packages/scikit_learn.libs/libgomp-f7e03b3e.so.1.0.0\",\n",
      "      \"prefix\": \"libgomp\",\n",
      "      \"user_api\": \"openmp\",\n",
      "      \"internal_api\": \"openmp\",\n",
      "      \"version\": null,\n",
      "      \"num_threads\": 2\n",
      "    },\n",
      "    {\n",
      "      \"filepath\": \"/usr/share/miniconda/envs/sklbench/lib/libgomp.so.1.0.0\",\n",
      "      \"prefix\": \"libgomp\",\n",
      "      \"user_api\": \"openmp\",\n",
      "      \"internal_api\": \"openmp\",\n",
      "      \"version\": null,\n",
      "      \"num_threads\": 2\n",
      "    }\n",
      "  ],\n",
      "  \"cpu_count\": 2\n",
      "}\n"
     ]
    }
   ],
   "source": [
    "print_env_info()"
   ]
  },
  {
   "cell_type": "code",
   "execution_count": 4,
   "id": "637fe6ec",
   "metadata": {},
   "outputs": [
    {
     "ename": "KeyError",
     "evalue": "'KNeighborsClassifier'",
     "output_type": "error",
     "traceback": [
      "\u001b[0;31m---------------------------------------------------------------------------\u001b[0m",
      "\u001b[0;31mKeyError\u001b[0m                                  Traceback (most recent call last)",
      "\u001b[0;32m<ipython-input-4-ad686b206080>\u001b[0m in \u001b[0;36m<module>\u001b[0;34m\u001b[0m\n\u001b[1;32m      1\u001b[0m \u001b[0mreporting\u001b[0m \u001b[0;34m=\u001b[0m \u001b[0mReporting\u001b[0m\u001b[0;34m(\u001b[0m\u001b[0mconfig\u001b[0m\u001b[0;34m=\u001b[0m\u001b[0;34m\"config.yml\"\u001b[0m\u001b[0;34m)\u001b[0m\u001b[0;34m\u001b[0m\u001b[0;34m\u001b[0m\u001b[0m\n\u001b[0;32m----> 2\u001b[0;31m \u001b[0mreporting\u001b[0m\u001b[0;34m.\u001b[0m\u001b[0mrun\u001b[0m\u001b[0;34m(\u001b[0m\u001b[0;34m)\u001b[0m\u001b[0;34m\u001b[0m\u001b[0;34m\u001b[0m\u001b[0m\n\u001b[0m",
      "\u001b[0;32m~/dev/inria/sklearn_benchmarks/sklearn_benchmarks/report.py\u001b[0m in \u001b[0;36mrun\u001b[0;34m(self)\u001b[0m\n\u001b[1;32m     88\u001b[0m             \u001b[0mparams\u001b[0m\u001b[0;34m[\u001b[0m\u001b[0;34m\"n_cols\"\u001b[0m\u001b[0;34m]\u001b[0m \u001b[0;34m=\u001b[0m \u001b[0mreporting_config\u001b[0m\u001b[0;34m[\u001b[0m\u001b[0;34m\"n_cols\"\u001b[0m\u001b[0;34m]\u001b[0m\u001b[0;34m\u001b[0m\u001b[0;34m\u001b[0m\u001b[0m\n\u001b[1;32m     89\u001b[0m             params[\"estimator_hyperparameters\"] = self._get_estimator_hyperparameters(\n\u001b[0;32m---> 90\u001b[0;31m                 \u001b[0mbenchmarking_estimators\u001b[0m\u001b[0;34m[\u001b[0m\u001b[0mname\u001b[0m\u001b[0;34m]\u001b[0m\u001b[0;34m\u001b[0m\u001b[0;34m\u001b[0m\u001b[0m\n\u001b[0m\u001b[1;32m     91\u001b[0m             )\n\u001b[1;32m     92\u001b[0m \u001b[0;34m\u001b[0m\u001b[0m\n",
      "\u001b[0;31mKeyError\u001b[0m: 'KNeighborsClassifier'"
     ]
    }
   ],
   "source": [
    "reporting = Reporting(config=\"config.yml\")\n",
    "reporting.run()"
   ]
  }
 ],
 "metadata": {
  "kernelspec": {
   "display_name": "Python 3",
   "language": "python",
   "name": "python3"
  },
  "language_info": {
   "codemirror_mode": {
    "name": "ipython",
    "version": 3
   },
   "file_extension": ".py",
   "mimetype": "text/x-python",
   "name": "python",
   "nbconvert_exporter": "python",
   "pygments_lexer": "ipython3",
   "version": "3.9.4"
  }
 },
 "nbformat": 4,
 "nbformat_minor": 5
}
