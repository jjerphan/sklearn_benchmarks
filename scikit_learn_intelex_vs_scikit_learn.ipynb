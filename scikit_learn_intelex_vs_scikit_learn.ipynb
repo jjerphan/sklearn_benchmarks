{
 "cells": [
  {
   "cell_type": "code",
   "execution_count": null,
   "id": "e5217d52",
   "metadata": {},
   "outputs": [],
   "source": [
    "from sklearn_benchmarks.reporting.hp_match import HpMatchReporting\n",
    "import pandas as pd\n",
    "pd.set_option('display.max_colwidth', None)\n",
    "pd.set_option('display.max_columns', None)\n",
    "pd.set_option('display.max_rows', None)"
   ]
  },
  {
   "cell_type": "markdown",
   "id": "66a18ca4",
   "metadata": {},
   "source": [
    "# scikit-learn vs. scikit-learn-intelex (Intel® oneAPI)"
   ]
  },
  {
   "cell_type": "code",
   "execution_count": null,
   "id": "df575172",
   "metadata": {},
   "outputs": [],
   "source": [
    "reporting = HpMatchReporting(other_library=\"sklearnex\", config=\"config.yml\", log_scale=True)\n",
    "reporting.make_report()"
   ]
  }
 ],
 "metadata": {
  "kernelspec": {
   "display_name": "Python 3 (ipykernel)",
   "language": "python",
   "name": "python3"
  },
  "language_info": {
   "codemirror_mode": {
    "name": "ipython",
    "version": 3
   },
   "file_extension": ".py",
   "mimetype": "text/x-python",
   "name": "python",
   "nbconvert_exporter": "python",
   "pygments_lexer": "ipython3",
   "version": "3.9.6"
  }
 },
 "nbformat": 4,
 "nbformat_minor": 5
}
