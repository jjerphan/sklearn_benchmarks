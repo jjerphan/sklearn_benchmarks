{
 "cells": [
  {
   "cell_type": "code",
   "execution_count": null,
   "id": "6af7537b",
   "metadata": {},
   "outputs": [],
   "source": [
    "from sklearn_benchmarks.reporting.hp_match import HpMatchReporting\n",
    "import pandas as pd\n",
    "pd.set_option('display.max_colwidth', None)\n",
    "pd.set_option('display.max_columns', None)\n",
    "pd.set_option('display.max_rows', None)"
   ]
  },
  {
   "cell_type": "markdown",
   "id": "66a18ca4",
   "metadata": {},
   "source": [
    "# scikit-learn vs. scikit-learn-intelex (Intel® oneAPI)"
   ]
  },
  {
   "cell_type": "code",
   "execution_count": null,
   "id": "04dccf90",
   "metadata": {},
   "outputs": [],
   "source": [
    "df_skl = pd.read_csv(\"results/benchmarking/sklearn_KNeighborsClassifier_brute_force.csv\")\n",
    "df_skl"
   ]
  },
  {
   "cell_type": "code",
   "execution_count": null,
   "id": "a1ee2c12",
   "metadata": {},
   "outputs": [],
   "source": [
    "df_sklearnex = pd.read_csv(\"results/benchmarking/sklearnex_KNeighborsClassifier_brute_force.csv\")\n",
    "df_sklearnex"
   ]
  },
  {
   "cell_type": "code",
   "execution_count": null,
   "id": "60284f20",
   "metadata": {},
   "outputs": [],
   "source": [
    "from sklearn.datasets import make_classification\n",
    "from sklearn.model_selection import train_test_split\n",
    "\n",
    "\n",
    "X, y = make_classification(\n",
    "    n_samples=n_samples_train + n_samples_test,\n",
    "    n_features=n_features,\n",
    "    n_classes=2,\n",
    "    n_redundant=0,\n",
    "    random_state=0\n",
    ")\n",
    "\n",
    "X_train, X_test, y_train, y_test = train_test_split(\n",
    "    X,\n",
    "    y,\n",
    "    train_size=n_samples_train,\n",
    "    random_state=0,\n",
    ")"
   ]
  },
  {
   "cell_type": "code",
   "execution_count": null,
   "id": "8a61e805",
   "metadata": {},
   "outputs": [],
   "source": [
    "N_PREDS = 10"
   ]
  },
  {
   "cell_type": "code",
   "execution_count": null,
   "id": "2537acd8",
   "metadata": {},
   "outputs": [],
   "source": [
    "clf_skl = KNeighborsClassifierSklearn(\n",
    "    algorithm=\"brute\",\n",
    "    n_jobs=-1,\n",
    "    n_neighbors=1\n",
    ")\n",
    "\n",
    "clf_skl = clf_skl.fit(X_train, y_train)\n",
    "\n",
    "scores_skl = []\n",
    "for _ in range(N_PREDS):\n",
    "    y_pred = clf_skl.predict(X_test)\n",
    "    scores_skl.append(accuracy_score(y_test, y_pred))\n",
    "\n",
    "print(\"sklearn\")\n",
    "print(\"scores: \", scores_skl)\n",
    "print(\"mean score: \", np.mean(scores_skl))\n",
    "print(\"---\")"
   ]
  },
  {
   "cell_type": "code",
   "execution_count": null,
   "id": "8e7b33a9",
   "metadata": {},
   "outputs": [],
   "source": [
    "clf_sklx = KNeighborsClassifierSklearnex(\n",
    "    algorithm=\"brute\",\n",
    "    n_jobs=-1,\n",
    "    n_neighbors=1\n",
    ")\n",
    "\n",
    "clf_sklx = clf_sklx.fit(X_train, y_train)\n",
    "\n",
    "scores_sklx = []\n",
    "for _ in range(N_PREDS):\n",
    "    y_pred = clf.predict(X_test)\n",
    "    scores_sklx.append(accuracy_score(y_test, y_pred))\n",
    "\n",
    "print(\"sklearnex\")\n",
    "print(\"scores_sklearnex: \", scores_sklx)\n",
    "print(\"mean score sklearnex: \", np.mean(scores_sklx))\n",
    "print(\"---\")"
   ]
  },
  {
   "cell_type": "code",
   "execution_count": null,
   "id": "df575172",
   "metadata": {},
   "outputs": [],
   "source": [
    "reporting = HpMatchReporting(other_library=\"sklearnex\", config=\"config.yml\", log_scale=True)\n",
    "reporting.make_report()"
   ]
  }
 ],
 "metadata": {
  "kernelspec": {
   "display_name": "Python 3 (ipykernel)",
   "language": "python",
   "name": "python3"
  },
  "language_info": {
   "codemirror_mode": {
    "name": "ipython",
    "version": 3
   },
   "file_extension": ".py",
   "mimetype": "text/x-python",
   "name": "python",
   "nbconvert_exporter": "python",
   "pygments_lexer": "ipython3",
   "version": "3.9.6"
  }
 },
 "nbformat": 4,
 "nbformat_minor": 5
}
