{
 "cells": [
  {
   "cell_type": "code",
   "execution_count": null,
   "id": "6af7537b",
   "metadata": {},
   "outputs": [],
   "source": [
    "from sklearn_benchmarks.reporting.hp_match import HpMatchReporting\n",
    "import pandas as pd\n",
    "pd.set_option('display.max_colwidth', None)\n",
    "pd.set_option('display.max_columns', None)\n",
    "pd.set_option('display.max_rows', None)"
   ]
  },
  {
   "cell_type": "markdown",
   "id": "66a18ca4",
   "metadata": {},
   "source": [
    "# scikit-learn vs. scikit-learn-intelex (Intel® oneAPI)"
   ]
  },
  {
   "cell_type": "code",
   "execution_count": null,
   "id": "7afad390",
   "metadata": {},
   "outputs": [],
   "source": [
    "measurements = ['iteration_throughput', 'latency', 'mean_duration_sklearn', 'mean_duration_sklearnex', 'speedup', 'std_duration_sklearn', 'std_duration_sklearnex', 'std_speedup']"
   ]
  },
  {
   "cell_type": "code",
   "execution_count": null,
   "id": "417237ee",
   "metadata": {},
   "outputs": [],
   "source": [
    "def get_position(string):\n",
    "    if \"mean_duration\" in string:\n",
    "        return 3\n",
    "    elif \"std_duration\" in string:\n",
    "        return 2\n",
    "    elif \"score\" in string:\n",
    "        return 1\n",
    "    elif \"speedup\" in string:\n",
    "        return 0\n",
    "    else:\n",
    "        return -1"
   ]
  },
  {
   "cell_type": "code",
   "execution_count": null,
   "id": "ecc668d0",
   "metadata": {},
   "outputs": [],
   "source": [
    "sorted(measurements, key=get_position, reverse=True) "
   ]
  },
  {
   "cell_type": "code",
   "execution_count": null,
   "id": "df575172",
   "metadata": {},
   "outputs": [],
   "source": [
    "reporting = HpMatchReporting(against_lib=\"sklearnex\", config=\"config.yml\", log_scale=True)\n",
    "reporting.make_report()"
   ]
  }
 ],
 "metadata": {
  "kernelspec": {
   "display_name": "Python 3 (ipykernel)",
   "language": "python",
   "name": "python3"
  },
  "language_info": {
   "codemirror_mode": {
    "name": "ipython",
    "version": 3
   },
   "file_extension": ".py",
   "mimetype": "text/x-python",
   "name": "python",
   "nbconvert_exporter": "python",
   "pygments_lexer": "ipython3",
   "version": "3.9.6"
  }
 },
 "nbformat": 4,
 "nbformat_minor": 5
}
