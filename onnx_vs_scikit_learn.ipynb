{
 "cells": [
  {
   "cell_type": "code",
   "execution_count": null,
   "id": "b31c5991",
   "metadata": {},
   "outputs": [],
   "source": [
    "from sklearn_benchmarks.reporting.hp_match import HpMatchReporting"
   ]
  },
  {
   "cell_type": "markdown",
   "id": "21bf2fa6",
   "metadata": {},
   "source": [
    "# scikit-learn vs. ONNX Runtime"
   ]
  },
  {
   "cell_type": "code",
   "execution_count": null,
   "id": "3d228beb",
   "metadata": {},
   "outputs": [],
   "source": [
    "reporting = HpMatchReporting(against_lib=\"onnx\", config=\"config.yml\", log_scale=True)\n",
    "reporting.make_report()"
   ]
  }
 ],
 "metadata": {
  "kernelspec": {
   "display_name": "Python 3 (ipykernel)",
   "language": "python",
   "name": "python3"
  },
  "language_info": {
   "codemirror_mode": {
    "name": "ipython",
    "version": 3
   },
   "file_extension": ".py",
   "mimetype": "text/x-python",
   "name": "python",
   "nbconvert_exporter": "python",
   "pygments_lexer": "ipython3",
   "version": "3.9.6"
  }
 },
 "nbformat": 4,
 "nbformat_minor": 5
}
