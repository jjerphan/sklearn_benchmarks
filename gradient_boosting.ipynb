{
 "cells": [
  {
   "cell_type": "code",
   "execution_count": null,
   "id": "a4b52d90",
   "metadata": {},
   "outputs": [],
   "source": [
    "from sklearn_benchmarks.reporting.hpo import HPOReporting\n",
    "import pandas as pd\n",
    "pd.set_option('display.max_columns', None)\n",
    "pd.set_option('display.max_rows', None)"
   ]
  },
  {
   "cell_type": "markdown",
   "id": "186bd4e5",
   "metadata": {},
   "source": [
    "# Gradient boosting: randomized HPO benchmarks"
   ]
  },
  {
   "cell_type": "code",
   "execution_count": null,
   "id": "57429e97",
   "metadata": {},
   "outputs": [],
   "source": [
    "reporting_hpo = HPOReporting(config=\"config.yml\")\n",
    "reporting_hpo.make_report()"
   ]
  }
 ],
 "metadata": {
  "kernelspec": {
   "display_name": "Python 3 (ipykernel)",
   "language": "python",
   "name": "python3"
  },
  "language_info": {
   "codemirror_mode": {
    "name": "ipython",
    "version": 3
   },
   "file_extension": ".py",
   "mimetype": "text/x-python",
   "name": "python",
   "nbconvert_exporter": "python",
   "pygments_lexer": "ipython3",
   "version": "3.9.6"
  }
 },
 "nbformat": 4,
 "nbformat_minor": 5
}
