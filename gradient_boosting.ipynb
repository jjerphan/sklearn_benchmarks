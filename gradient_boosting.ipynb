{
 "cells": [
  {
   "cell_type": "code",
   "execution_count": null,
   "id": "fa0085d6",
   "metadata": {},
   "outputs": [],
   "source": [
    "from sklearn_benchmarks.reporting.hpo import HPOReporting\n",
    "import pandas as pd\n",
    "pd.set_option('display.max_columns', None)\n",
    "pd.set_option('display.max_rows', None)"
   ]
  },
  {
   "cell_type": "markdown",
   "id": "186bd4e5",
   "metadata": {},
   "source": [
    "# Gradient boosting: randomized HPO benchmarks"
   ]
  },
  {
   "cell_type": "code",
   "execution_count": null,
   "id": "332a9827",
   "metadata": {},
   "outputs": [],
   "source": [
    "reporting_hpo = HPOReporting(config=\"config.yml\")\n",
    "reporting_hpo.run()"
   ]
  },
  {
   "cell_type": "code",
   "execution_count": null,
   "id": "c95ab150",
   "metadata": {},
   "outputs": [],
   "source": []
  },
  {
   "cell_type": "code",
   "execution_count": null,
   "id": "f25e2345",
   "metadata": {},
   "outputs": [],
   "source": []
  },
  {
   "cell_type": "code",
   "execution_count": null,
   "id": "a9b7b3d2",
   "metadata": {},
   "outputs": [],
   "source": []
  },
  {
   "cell_type": "code",
   "execution_count": null,
   "id": "d7ee2a0a",
   "metadata": {},
   "outputs": [],
   "source": []
  },
  {
   "cell_type": "code",
   "execution_count": null,
   "id": "62968982",
   "metadata": {},
   "outputs": [],
   "source": [
    "import numpy as np\n",
    "import matplotlib.pyplot as plt\n",
    "from sklearn_benchmarks.utils.misc import find_nearest"
   ]
  },
  {
   "cell_type": "code",
   "execution_count": null,
   "id": "9e67da11",
   "metadata": {},
   "outputs": [],
   "source": [
    "fit_times_for_max_scores = []"
   ]
  },
  {
   "cell_type": "code",
   "execution_count": null,
   "id": "20e911ab",
   "metadata": {},
   "outputs": [],
   "source": [
    "# Smoothed curves\n",
    "\n",
    "plt.figure(figsize=(15, 10))\n",
    "\n",
    "for hpo_result in reporting_hpo.data:\n",
    "    idx_max_score = np.argmax(hpo_result.grid_scores, axis=0)\n",
    "    fit_time_for_max_score = hpo_result.mean_grid_times[idx_max_score]\n",
    "    fit_times_for_max_scores.append(fit_time_for_max_score)\n",
    "    plt.plot(\n",
    "        hpo_result.mean_grid_times,\n",
    "        hpo_result.grid_scores,\n",
    "        c=f\"tab:{hpo_result.color}\",\n",
    "        label=hpo_result.legend\n",
    "    )\n",
    "\n",
    "min_fit_time_all_constant = min(fit_times_for_max_scores)\n",
    "plt.xlim(right=min_fit_time_all_constant)\n",
    "plt.xlabel(\"Cumulated fit times in s\")\n",
    "plt.ylabel(\"Validation scores\")\n",
    "plt.legend()\n",
    "plt.show()"
   ]
  },
  {
   "cell_type": "code",
   "execution_count": null,
   "id": "bbf8af45",
   "metadata": {},
   "outputs": [],
   "source": [
    "# Speedup barplots\n",
    "\n",
    "thresholds = [0.74, 0.76, 0.78]\n",
    "_, axes = plt.subplots(len(thresholds), figsize=(12, 20))\n",
    "\n",
    "base_hpo_result = list(filter(lambda result: result.lib == 'sklearn', reporting_hpo.data))[0]\n",
    "\n",
    "\n",
    "for ax, threshold in zip(axes, thresholds):\n",
    "    base_scores = base_hpo_result.scores\n",
    "    base_fit_times = base_hpo_result.fit_times\n",
    "    \n",
    "    base_idx_closest, _ = find_nearest(base_scores, threshold)\n",
    "    base_time = base_fit_times.iloc[base_idx_closest]\n",
    "\n",
    "    df_threshold = pd.DataFrame(columns=[\"speedup\", \"legend\", \"color\"])\n",
    "    for hpo_result in reporting_hpo.data:\n",
    "        idx_closest, _ = find_nearest(hpo_result.scores, threshold)\n",
    "        lib_time = hpo_result.fit_times.iloc[idx_closest]\n",
    "        speedup = base_time / lib_time\n",
    "        row = dict(\n",
    "            speedup=speedup,\n",
    "            legend=hpo_result.legend,\n",
    "            color=hpo_result.color\n",
    "        )\n",
    "        df_threshold = df_threshold.append(row, ignore_index=True)\n",
    "        \n",
    "    ax.bar(x=df_threshold[\"legend\"], height=df_threshold[\"speedup\"], width=0.3, color=df_threshold[\"color\"])\n",
    "    ax.set_xlabel(\"Library\")\n",
    "    ax.set_ylabel(f\"Speedup\")\n",
    "    ax.set_title(f\"At score {threshold}\")\n",
    "\n",
    "plt.tight_layout()\n",
    "plt.show()"
   ]
  }
 ],
 "metadata": {
  "kernelspec": {
   "display_name": "Python 3 (ipykernel)",
   "language": "python",
   "name": "python3"
  },
  "language_info": {
   "codemirror_mode": {
    "name": "ipython",
    "version": 3
   },
   "file_extension": ".py",
   "mimetype": "text/x-python",
   "name": "python",
   "nbconvert_exporter": "python",
   "pygments_lexer": "ipython3",
   "version": "3.9.6"
  }
 },
 "nbformat": 4,
 "nbformat_minor": 5
}
