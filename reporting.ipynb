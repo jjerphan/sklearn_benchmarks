{
 "cells": [
  {
   "cell_type": "markdown",
   "id": "8a3d912a",
   "metadata": {},
   "source": [
    "# Benchmarking reports"
   ]
  },
  {
   "cell_type": "code",
   "execution_count": null,
   "id": "9c7a948b",
   "metadata": {
    "scrolled": true
   },
   "outputs": [],
   "source": [
    "from sklearn_benchmarks.report import Reporting, ReportingHpo\n",
    "import pandas as pd\n",
    "pd.set_option('display.max_colwidth', None)\n",
    "pd.set_option('display.max_columns', None)\n",
    "pd.set_option('display.max_rows', None)"
   ]
  },
  {
   "cell_type": "code",
   "execution_count": null,
   "id": "b3a613b4",
   "metadata": {
    "scrolled": false
   },
   "outputs": [],
   "source": [
    "reporting = Reporting(config_file_path=\"config.yml\")\n",
    "reporting.run()"
   ]
  },
  {
   "cell_type": "code",
   "execution_count": null,
   "id": "ed8e9ad1",
   "metadata": {
    "scrolled": false
   },
   "outputs": [],
   "source": [
    "reporting_hpo = ReportingHpo(files=[\n",
    "    \"results/benchmarking/sklearn_HistGradientBoostingClassifier.csv\",\n",
    "    \"results/benchmarking/xgboost_XGBClassifier.csv\",\n",
    "    \"results/benchmarking/lightgbm_LGBMClassifier.csv\",\n",
    "    \"results/benchmarking/catboost_CatBoostClassifier.csv\"\n",
    "])\n",
    "reporting_hpo.run()"
   ]
  }
 ],
 "metadata": {
  "ipub": {
   "titlepage": {
    "logo": "logo.png",
    "subtitle": "A comparative benchmarking tool for scikit-learn",
    "title": "scikit-learn benchmarks"
   }
  },
  "kernelspec": {
   "display_name": "Python 3",
   "language": "python",
   "name": "python3"
  },
  "language_info": {
   "codemirror_mode": {
    "name": "ipython",
    "version": 3
   },
   "file_extension": ".py",
   "mimetype": "text/x-python",
   "name": "python",
   "nbconvert_exporter": "python",
   "pygments_lexer": "ipython3",
   "version": "3.9.4"
  }
 },
 "nbformat": 4,
 "nbformat_minor": 5
}
