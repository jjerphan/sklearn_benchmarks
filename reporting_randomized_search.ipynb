{
 "cells": [
  {
   "cell_type": "markdown",
   "id": "47e44dbf",
   "metadata": {},
   "source": [
    "<br></br>\n",
    "# Imports"
   ]
  },
  {
   "cell_type": "code",
   "execution_count": null,
   "id": "265efc9e",
   "metadata": {},
   "outputs": [],
   "source": [
    "import pandas as pd\n",
    "import numpy as np\n",
    "import matplotlib.pyplot as plt\n",
    "import joblib\n",
    "import json\n",
    "from sklearn.utils._show_versions import show_versions\n",
    "from threadpoolctl import threadpool_info"
   ]
  },
  {
   "cell_type": "markdown",
   "id": "93e40810",
   "metadata": {},
   "source": [
    "<br></br>\n",
    "# Benchmark environment"
   ]
  },
  {
   "cell_type": "code",
   "execution_count": null,
   "id": "71f3c2e0",
   "metadata": {},
   "outputs": [],
   "source": [
    "with open(\"results/env_info.txt\") as json_file:\n",
    "    data = json.load(json_file)\n",
    "\n",
    "print(json.dumps(data, indent=2))"
   ]
  },
  {
   "cell_type": "markdown",
   "id": "53bc1359",
   "metadata": {},
   "source": [
    "# HistGradientBoostingClassifier vs. lightgbm"
   ]
  },
  {
   "cell_type": "code",
   "execution_count": null,
   "id": "3d5b05ce",
   "metadata": {},
   "outputs": [],
   "source": [
    "TIME_BUDGET = 300"
   ]
  },
  {
   "cell_type": "code",
   "execution_count": null,
   "id": "9afc9b28",
   "metadata": {},
   "outputs": [],
   "source": [
    "df_skl = pd.read_csv(\"results/benchmarking/sklearn_HistGradientBoostingClassifier.csv\")"
   ]
  },
  {
   "cell_type": "code",
   "execution_count": null,
   "id": "e378045b",
   "metadata": {},
   "outputs": [],
   "source": [
    "df_lgbm = pd.read_csv(\"results/benchmarking/lightgbm_LGBMClassifier.csv\")"
   ]
  },
  {
   "cell_type": "code",
   "execution_count": null,
   "id": "e6d9df0e",
   "metadata": {},
   "outputs": [],
   "source": [
    "df_xgb = pd.read_csv(\"results/benchmarking/xgboost_XGBClassifier.csv\")"
   ]
  },
  {
   "cell_type": "code",
   "execution_count": null,
   "id": "e6669ed9",
   "metadata": {},
   "outputs": [],
   "source": [
    "def compute_cumulated(fit_times, scores):\n",
    "    cumulated_fit_times = fit_times.cumsum()\n",
    "    best_val_score_so_far = pd.Series(scores).cummax()\n",
    "    return cumulated_fit_times, best_val_score_so_far"
   ]
  },
  {
   "cell_type": "code",
   "execution_count": null,
   "id": "64cff5e9",
   "metadata": {},
   "outputs": [],
   "source": [
    "fit_times_skl = df_skl[df_skl[\"function\"] == \"fit\"][\"mean_time\"].values\n",
    "fit_times_lgbm = df_lgbm[df_lgbm[\"function\"] == \"fit\"][\"mean_time\"].values\n",
    "fit_times_xgb = df_xgb[df_xgb[\"function\"] == \"fit\"][\"mean_time\"].values\n",
    "scores_skl = df_skl[df_skl[\"function\"] == \"predict\"][\"accuracy_score\"].values\n",
    "scores_lgbm = df_lgbm[df_lgbm[\"function\"] == \"predict\"][\"accuracy_score\"].values\n",
    "scores_xgb = df_xgb[df_xgb[\"function\"] == \"predict\"][\"accuracy_score\"].values"
   ]
  },
  {
   "cell_type": "code",
   "execution_count": null,
   "id": "915593c1",
   "metadata": {},
   "outputs": [],
   "source": [
    "cumulated_fit_times_skl, best_val_score_so_far_skl = compute_cumulated(fit_times_skl, scores_skl)\n",
    "cumulated_fit_times_lgbm, best_val_score_so_far_lgbm = compute_cumulated(fit_times_lgbm, scores_lgbm)\n",
    "cumulated_fit_times_xgb, best_val_score_so_far_xgb = compute_cumulated(fit_times_xgb, scores_xgb)"
   ]
  },
  {
   "cell_type": "code",
   "execution_count": null,
   "id": "741e3afc",
   "metadata": {},
   "outputs": [],
   "source": [
    "plt.scatter(cumulated_fit_times_skl, scores_skl, c=\"tab:blue\", label=\"scikit-learn\")\n",
    "plt.scatter(cumulated_fit_times_lgbm, scores_lgbm, c=\"tab:orange\", label=\"lightgbm\")\n",
    "plt.scatter(cumulated_fit_times_xgb, scores_xgb, c=\"tab:red\", label=\"lightgbm\")\n",
    "plt.xlabel(\"Cumulated fit times in s\")\n",
    "plt.ylabel(\"Validation scores\")\n",
    "plt.legend();"
   ]
  },
  {
   "cell_type": "code",
   "execution_count": null,
   "id": "7e85922b",
   "metadata": {},
   "outputs": [],
   "source": [
    "plt.scatter(cumulated_fit_times_skl, scores_skl, c=\"tab:blue\", alpha=0.3)\n",
    "plt.scatter(cumulated_fit_times_lgbm, scores_lgbm, c=\"tab:orange\", alpha=0.3)\n",
    "plt.scatter(cumulated_fit_times_xgb, scores_xgb, c=\"tab:red\", alpha=0.3)\n",
    "\n",
    "plt.plot(cumulated_fit_times_skl, best_val_score_so_far_skl, c='tab:blue', label=\"scikit-learn\")\n",
    "plt.plot(cumulated_fit_times_lgbm, best_val_score_so_far_lgbm, c='tab:orange', label=\"lightgbm\")\n",
    "plt.plot(cumulated_fit_times_xgb, best_val_score_so_far_xgb, c='tab:red', label=\"xgboost\")\n",
    "\n",
    "plt.xlabel(\"Cumulated fit times in s\")\n",
    "plt.ylabel(\"Validation scores\")\n",
    "\n",
    "plt.legend();"
   ]
  },
  {
   "cell_type": "code",
   "execution_count": null,
   "id": "3dbef68e",
   "metadata": {},
   "outputs": [],
   "source": [
    "def permutated_curve(grid_times, fit_times, scores, rng):\n",
    "    assert fit_times.shape == scores.shape\n",
    "    assert fit_times.ndim == 1\n",
    "    indices = rng.permutation(fit_times.shape[0])\n",
    "    cum_fit_times, cum_scores = compute_cumulated(fit_times[indices], scores[indices])\n",
    "    grid_scores = np.interp(\n",
    "        grid_times,\n",
    "        cum_fit_times,\n",
    "        cum_scores,\n",
    "        left=0,\n",
    "        right=scores.max()\n",
    "    )\n",
    "    return grid_scores"
   ]
  },
  {
   "cell_type": "code",
   "execution_count": null,
   "id": "d2d6ca04",
   "metadata": {},
   "outputs": [],
   "source": [
    "rng = np.random.RandomState(1)"
   ]
  },
  {
   "cell_type": "code",
   "execution_count": null,
   "id": "ab820d69",
   "metadata": {},
   "outputs": [],
   "source": [
    "def mean_permutated_curve(fit_times, scores, seed=0, n_permutations=1000, time_budget=TIME_BUDGET):\n",
    "    grid_times = np.linspace(0, time_budget, 1000)\n",
    "    rng = np.random.RandomState(seed)\n",
    "    grid_scores_all = []\n",
    "    for _ in range(n_permutations):\n",
    "        grid_scores = permutated_curve(grid_times, fit_times, scores, rng)\n",
    "        grid_scores_all.append(grid_scores)\n",
    "    return grid_times, np.mean(grid_scores_all, axis=0)"
   ]
  },
  {
   "cell_type": "code",
   "execution_count": null,
   "id": "547eb48c",
   "metadata": {},
   "outputs": [],
   "source": [
    "grid_times_skl, scores_skl = mean_permutated_curve(fit_times_skl, scores_skl)\n",
    "grid_times_lgbm, scores_lgbm = mean_permutated_curve(fit_times_lgbm, scores_lgbm)\n",
    "grid_times_xgb, scores_xgb = mean_permutated_curve(fit_times_xgb, scores_xgb)"
   ]
  },
  {
   "cell_type": "code",
   "execution_count": null,
   "id": "409c4f67",
   "metadata": {},
   "outputs": [],
   "source": [
    "plt.plot(grid_times_skl, scores_skl, c='tab:blue', label=\"scikit-learn\")\n",
    "plt.plot(grid_times_lgbm, scores_lgbm, c='tab:orange', label=\"lightgbm\")\n",
    "plt.plot(grid_times_xgb, scores_xgb, c='tab:red', label=\"xgboost\")\n",
    "\n",
    "plt.xlabel(\"Cumulated fit times in s\")\n",
    "plt.ylabel(\"Validation scores\")\n",
    "\n",
    "plt.legend();"
   ]
  }
 ],
 "metadata": {
  "kernelspec": {
   "display_name": "Python 3",
   "language": "python",
   "name": "python3"
  },
  "language_info": {
   "codemirror_mode": {
    "name": "ipython",
    "version": 3
   },
   "file_extension": ".py",
   "mimetype": "text/x-python",
   "name": "python",
   "nbconvert_exporter": "python",
   "pygments_lexer": "ipython3",
   "version": "3.9.4"
  }
 },
 "nbformat": 4,
 "nbformat_minor": 5
}
