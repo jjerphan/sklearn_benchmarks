{
 "cells": [
  {
   "cell_type": "markdown",
   "id": "47e44dbf",
   "metadata": {},
   "source": [
    "<br></br>\n",
    "# Imports"
   ]
  },
  {
   "cell_type": "code",
   "execution_count": 1,
   "id": "265efc9e",
   "metadata": {},
   "outputs": [],
   "source": [
    "import pandas as pd\n",
    "import numpy as np\n",
    "import matplotlib.pyplot as plt\n",
    "import joblib\n",
    "import json\n",
    "from sklearn.utils._show_versions import show_versions\n",
    "from threadpoolctl import threadpool_info"
   ]
  },
  {
   "cell_type": "markdown",
   "id": "93e40810",
   "metadata": {},
   "source": [
    "<br></br>\n",
    "# Benchmark environment"
   ]
  },
  {
   "cell_type": "code",
   "execution_count": 2,
   "id": "71f3c2e0",
   "metadata": {},
   "outputs": [
    {
     "ename": "FileNotFoundError",
     "evalue": "[Errno 2] No such file or directory: 'results/env_info.txt'",
     "output_type": "error",
     "traceback": [
      "\u001b[0;31m---------------------------------------------------------------------------\u001b[0m",
      "\u001b[0;31mFileNotFoundError\u001b[0m                         Traceback (most recent call last)",
      "\u001b[0;32m<ipython-input-2-eee7db4bbb63>\u001b[0m in \u001b[0;36m<module>\u001b[0;34m\u001b[0m\n\u001b[0;32m----> 1\u001b[0;31m \u001b[0;32mwith\u001b[0m \u001b[0mopen\u001b[0m\u001b[0;34m(\u001b[0m\u001b[0;34m\"results/env_info.txt\"\u001b[0m\u001b[0;34m)\u001b[0m \u001b[0;32mas\u001b[0m \u001b[0mjson_file\u001b[0m\u001b[0;34m:\u001b[0m\u001b[0;34m\u001b[0m\u001b[0;34m\u001b[0m\u001b[0m\n\u001b[0m\u001b[1;32m      2\u001b[0m     \u001b[0mdata\u001b[0m \u001b[0;34m=\u001b[0m \u001b[0mjson\u001b[0m\u001b[0;34m.\u001b[0m\u001b[0mload\u001b[0m\u001b[0;34m(\u001b[0m\u001b[0mjson_file\u001b[0m\u001b[0;34m)\u001b[0m\u001b[0;34m\u001b[0m\u001b[0;34m\u001b[0m\u001b[0m\n\u001b[1;32m      3\u001b[0m \u001b[0;34m\u001b[0m\u001b[0m\n\u001b[1;32m      4\u001b[0m \u001b[0mprint\u001b[0m\u001b[0;34m(\u001b[0m\u001b[0mjson\u001b[0m\u001b[0;34m.\u001b[0m\u001b[0mdumps\u001b[0m\u001b[0;34m(\u001b[0m\u001b[0mdata\u001b[0m\u001b[0;34m,\u001b[0m \u001b[0mindent\u001b[0m\u001b[0;34m=\u001b[0m\u001b[0;36m2\u001b[0m\u001b[0;34m)\u001b[0m\u001b[0;34m)\u001b[0m\u001b[0;34m\u001b[0m\u001b[0;34m\u001b[0m\u001b[0m\n",
      "\u001b[0;31mFileNotFoundError\u001b[0m: [Errno 2] No such file or directory: 'results/env_info.txt'"
     ]
    }
   ],
   "source": [
    "with open(\"results/env_info.txt\") as json_file:\n",
    "    data = json.load(json_file)\n",
    "\n",
    "print(json.dumps(data, indent=2))"
   ]
  },
  {
   "cell_type": "markdown",
   "id": "53bc1359",
   "metadata": {},
   "source": [
    "# Gradient Boosting Classification Benchmarks"
   ]
  },
  {
   "cell_type": "code",
   "execution_count": 24,
   "id": "3d5b05ce",
   "metadata": {},
   "outputs": [],
   "source": [
    "TIME_BUDGET = 300"
   ]
  },
  {
   "cell_type": "code",
   "execution_count": 25,
   "id": "9afc9b28",
   "metadata": {},
   "outputs": [],
   "source": [
    "df_skl = pd.read_csv(\"results/benchmarking/sklearn_HistGradientBoostingClassifier.csv\")"
   ]
  },
  {
   "cell_type": "code",
   "execution_count": 26,
   "id": "e378045b",
   "metadata": {},
   "outputs": [],
   "source": [
    "df_lgbm = pd.read_csv(\"results/benchmarking/lightgbm_LGBMClassifier.csv\")"
   ]
  },
  {
   "cell_type": "code",
   "execution_count": 27,
   "id": "6ae437f5",
   "metadata": {},
   "outputs": [],
   "source": [
    "df_xgb = pd.read_csv(\"results/benchmarking/xgboost_XGBClassifier.csv\")"
   ]
  },
  {
   "cell_type": "code",
   "execution_count": 28,
   "id": "standing-tuesday",
   "metadata": {},
   "outputs": [
    {
     "data": {
      "text/html": [
       "<div>\n",
       "<style scoped>\n",
       "    .dataframe tbody tr th:only-of-type {\n",
       "        vertical-align: middle;\n",
       "    }\n",
       "\n",
       "    .dataframe tbody tr th {\n",
       "        vertical-align: top;\n",
       "    }\n",
       "\n",
       "    .dataframe thead th {\n",
       "        text-align: right;\n",
       "    }\n",
       "</style>\n",
       "<table border=\"1\" class=\"dataframe\">\n",
       "  <thead>\n",
       "    <tr style=\"text-align: right;\">\n",
       "      <th></th>\n",
       "      <th>estimator</th>\n",
       "      <th>function</th>\n",
       "      <th>n_samples_train</th>\n",
       "      <th>n_samples</th>\n",
       "      <th>n_features</th>\n",
       "      <th>hyperparams_digest</th>\n",
       "      <th>dataset_digest</th>\n",
       "      <th>mean_time</th>\n",
       "      <th>stdev_time</th>\n",
       "      <th>throughput</th>\n",
       "      <th>latency</th>\n",
       "      <th>learning_rate</th>\n",
       "      <th>max_bin</th>\n",
       "      <th>max_leaf_nodes</th>\n",
       "      <th>min_samples_leaf</th>\n",
       "      <th>n_estimators</th>\n",
       "      <th>tree_method</th>\n",
       "      <th>use_label_encoder</th>\n",
       "      <th>validate_parameters</th>\n",
       "      <th>accuracy_score</th>\n",
       "    </tr>\n",
       "  </thead>\n",
       "  <tbody>\n",
       "    <tr>\n",
       "      <th>0</th>\n",
       "      <td>XGBClassifier</td>\n",
       "      <td>fit</td>\n",
       "      <td>100000</td>\n",
       "      <td>100000</td>\n",
       "      <td>100</td>\n",
       "      <td>f771bbcd034567f208dfa424be5ee3ae</td>\n",
       "      <td>cb16edecad38f292756cdc5794a48caa</td>\n",
       "      <td>109.412350</td>\n",
       "      <td>0.0</td>\n",
       "      <td>0.000366</td>\n",
       "      <td>0.002188</td>\n",
       "      <td>0.05</td>\n",
       "      <td>255</td>\n",
       "      <td>5</td>\n",
       "      <td>1000</td>\n",
       "      <td>1000</td>\n",
       "      <td>hist</td>\n",
       "      <td>False</td>\n",
       "      <td>True</td>\n",
       "      <td>NaN</td>\n",
       "    </tr>\n",
       "    <tr>\n",
       "      <th>1</th>\n",
       "      <td>XGBClassifier</td>\n",
       "      <td>predict</td>\n",
       "      <td>100000</td>\n",
       "      <td>1000</td>\n",
       "      <td>100</td>\n",
       "      <td>f771bbcd034567f208dfa424be5ee3ae</td>\n",
       "      <td>cb16edecad38f292756cdc5794a48caa</td>\n",
       "      <td>0.035242</td>\n",
       "      <td>0.0</td>\n",
       "      <td>0.022700</td>\n",
       "      <td>0.000035</td>\n",
       "      <td>0.05</td>\n",
       "      <td>255</td>\n",
       "      <td>5</td>\n",
       "      <td>1000</td>\n",
       "      <td>1000</td>\n",
       "      <td>hist</td>\n",
       "      <td>False</td>\n",
       "      <td>True</td>\n",
       "      <td>0.791</td>\n",
       "    </tr>\n",
       "    <tr>\n",
       "      <th>2</th>\n",
       "      <td>XGBClassifier</td>\n",
       "      <td>fit</td>\n",
       "      <td>100000</td>\n",
       "      <td>100000</td>\n",
       "      <td>100</td>\n",
       "      <td>586c0d02aaa87b8b620578eda9c91479</td>\n",
       "      <td>cb16edecad38f292756cdc5794a48caa</td>\n",
       "      <td>9.794476</td>\n",
       "      <td>0.0</td>\n",
       "      <td>0.004084</td>\n",
       "      <td>0.000196</td>\n",
       "      <td>0.10</td>\n",
       "      <td>32</td>\n",
       "      <td>5</td>\n",
       "      <td>20</td>\n",
       "      <td>100</td>\n",
       "      <td>hist</td>\n",
       "      <td>False</td>\n",
       "      <td>True</td>\n",
       "      <td>NaN</td>\n",
       "    </tr>\n",
       "    <tr>\n",
       "      <th>3</th>\n",
       "      <td>XGBClassifier</td>\n",
       "      <td>predict</td>\n",
       "      <td>100000</td>\n",
       "      <td>1000</td>\n",
       "      <td>100</td>\n",
       "      <td>586c0d02aaa87b8b620578eda9c91479</td>\n",
       "      <td>cb16edecad38f292756cdc5794a48caa</td>\n",
       "      <td>0.010254</td>\n",
       "      <td>0.0</td>\n",
       "      <td>0.078016</td>\n",
       "      <td>0.000010</td>\n",
       "      <td>0.10</td>\n",
       "      <td>32</td>\n",
       "      <td>5</td>\n",
       "      <td>20</td>\n",
       "      <td>100</td>\n",
       "      <td>hist</td>\n",
       "      <td>False</td>\n",
       "      <td>True</td>\n",
       "      <td>0.770</td>\n",
       "    </tr>\n",
       "    <tr>\n",
       "      <th>4</th>\n",
       "      <td>XGBClassifier</td>\n",
       "      <td>fit</td>\n",
       "      <td>100000</td>\n",
       "      <td>100000</td>\n",
       "      <td>100</td>\n",
       "      <td>09027116f0f7489de2cb9fa8281d52c4</td>\n",
       "      <td>cb16edecad38f292756cdc5794a48caa</td>\n",
       "      <td>85.624451</td>\n",
       "      <td>0.0</td>\n",
       "      <td>0.000467</td>\n",
       "      <td>0.001712</td>\n",
       "      <td>0.01</td>\n",
       "      <td>255</td>\n",
       "      <td>20</td>\n",
       "      <td>20</td>\n",
       "      <td>300</td>\n",
       "      <td>hist</td>\n",
       "      <td>False</td>\n",
       "      <td>True</td>\n",
       "      <td>NaN</td>\n",
       "    </tr>\n",
       "    <tr>\n",
       "      <th>5</th>\n",
       "      <td>XGBClassifier</td>\n",
       "      <td>predict</td>\n",
       "      <td>100000</td>\n",
       "      <td>1000</td>\n",
       "      <td>100</td>\n",
       "      <td>09027116f0f7489de2cb9fa8281d52c4</td>\n",
       "      <td>cb16edecad38f292756cdc5794a48caa</td>\n",
       "      <td>0.026143</td>\n",
       "      <td>0.0</td>\n",
       "      <td>0.030601</td>\n",
       "      <td>0.000026</td>\n",
       "      <td>0.01</td>\n",
       "      <td>255</td>\n",
       "      <td>20</td>\n",
       "      <td>20</td>\n",
       "      <td>300</td>\n",
       "      <td>hist</td>\n",
       "      <td>False</td>\n",
       "      <td>True</td>\n",
       "      <td>0.760</td>\n",
       "    </tr>\n",
       "    <tr>\n",
       "      <th>6</th>\n",
       "      <td>XGBClassifier</td>\n",
       "      <td>fit</td>\n",
       "      <td>100000</td>\n",
       "      <td>100000</td>\n",
       "      <td>100</td>\n",
       "      <td>7170fdb2309ea1a7f476ef271b92bb5b</td>\n",
       "      <td>cb16edecad38f292756cdc5794a48caa</td>\n",
       "      <td>28.890077</td>\n",
       "      <td>0.0</td>\n",
       "      <td>0.001385</td>\n",
       "      <td>0.000578</td>\n",
       "      <td>0.10</td>\n",
       "      <td>64</td>\n",
       "      <td>20</td>\n",
       "      <td>20</td>\n",
       "      <td>1000</td>\n",
       "      <td>hist</td>\n",
       "      <td>False</td>\n",
       "      <td>True</td>\n",
       "      <td>NaN</td>\n",
       "    </tr>\n",
       "    <tr>\n",
       "      <th>7</th>\n",
       "      <td>XGBClassifier</td>\n",
       "      <td>predict</td>\n",
       "      <td>100000</td>\n",
       "      <td>1000</td>\n",
       "      <td>100</td>\n",
       "      <td>7170fdb2309ea1a7f476ef271b92bb5b</td>\n",
       "      <td>cb16edecad38f292756cdc5794a48caa</td>\n",
       "      <td>0.019789</td>\n",
       "      <td>0.0</td>\n",
       "      <td>0.040427</td>\n",
       "      <td>0.000020</td>\n",
       "      <td>0.10</td>\n",
       "      <td>64</td>\n",
       "      <td>20</td>\n",
       "      <td>20</td>\n",
       "      <td>1000</td>\n",
       "      <td>hist</td>\n",
       "      <td>False</td>\n",
       "      <td>True</td>\n",
       "      <td>0.782</td>\n",
       "    </tr>\n",
       "    <tr>\n",
       "      <th>8</th>\n",
       "      <td>XGBClassifier</td>\n",
       "      <td>fit</td>\n",
       "      <td>100000</td>\n",
       "      <td>100000</td>\n",
       "      <td>100</td>\n",
       "      <td>014bad9de0b76cbab3db9d79e2dccc53</td>\n",
       "      <td>cb16edecad38f292756cdc5794a48caa</td>\n",
       "      <td>29.190233</td>\n",
       "      <td>0.0</td>\n",
       "      <td>0.001370</td>\n",
       "      <td>0.000584</td>\n",
       "      <td>0.10</td>\n",
       "      <td>64</td>\n",
       "      <td>50</td>\n",
       "      <td>2</td>\n",
       "      <td>300</td>\n",
       "      <td>hist</td>\n",
       "      <td>False</td>\n",
       "      <td>True</td>\n",
       "      <td>NaN</td>\n",
       "    </tr>\n",
       "    <tr>\n",
       "      <th>9</th>\n",
       "      <td>XGBClassifier</td>\n",
       "      <td>predict</td>\n",
       "      <td>100000</td>\n",
       "      <td>1000</td>\n",
       "      <td>100</td>\n",
       "      <td>014bad9de0b76cbab3db9d79e2dccc53</td>\n",
       "      <td>cb16edecad38f292756cdc5794a48caa</td>\n",
       "      <td>0.026003</td>\n",
       "      <td>0.0</td>\n",
       "      <td>0.030766</td>\n",
       "      <td>0.000026</td>\n",
       "      <td>0.10</td>\n",
       "      <td>64</td>\n",
       "      <td>50</td>\n",
       "      <td>2</td>\n",
       "      <td>300</td>\n",
       "      <td>hist</td>\n",
       "      <td>False</td>\n",
       "      <td>True</td>\n",
       "      <td>0.782</td>\n",
       "    </tr>\n",
       "    <tr>\n",
       "      <th>10</th>\n",
       "      <td>XGBClassifier</td>\n",
       "      <td>fit</td>\n",
       "      <td>100000</td>\n",
       "      <td>100000</td>\n",
       "      <td>100</td>\n",
       "      <td>46d43fe7c61c71463e09662a25000fe0</td>\n",
       "      <td>cb16edecad38f292756cdc5794a48caa</td>\n",
       "      <td>2.791078</td>\n",
       "      <td>0.0</td>\n",
       "      <td>0.014331</td>\n",
       "      <td>0.000056</td>\n",
       "      <td>1.00</td>\n",
       "      <td>64</td>\n",
       "      <td>30</td>\n",
       "      <td>200</td>\n",
       "      <td>1000</td>\n",
       "      <td>hist</td>\n",
       "      <td>False</td>\n",
       "      <td>True</td>\n",
       "      <td>NaN</td>\n",
       "    </tr>\n",
       "    <tr>\n",
       "      <th>11</th>\n",
       "      <td>XGBClassifier</td>\n",
       "      <td>predict</td>\n",
       "      <td>100000</td>\n",
       "      <td>1000</td>\n",
       "      <td>100</td>\n",
       "      <td>46d43fe7c61c71463e09662a25000fe0</td>\n",
       "      <td>cb16edecad38f292756cdc5794a48caa</td>\n",
       "      <td>0.003388</td>\n",
       "      <td>0.0</td>\n",
       "      <td>0.236114</td>\n",
       "      <td>0.000003</td>\n",
       "      <td>1.00</td>\n",
       "      <td>64</td>\n",
       "      <td>30</td>\n",
       "      <td>200</td>\n",
       "      <td>1000</td>\n",
       "      <td>hist</td>\n",
       "      <td>False</td>\n",
       "      <td>True</td>\n",
       "      <td>0.760</td>\n",
       "    </tr>\n",
       "    <tr>\n",
       "      <th>12</th>\n",
       "      <td>XGBClassifier</td>\n",
       "      <td>fit</td>\n",
       "      <td>100000</td>\n",
       "      <td>100000</td>\n",
       "      <td>100</td>\n",
       "      <td>8a5dbee6211ce71d6882392fb8a5efe3</td>\n",
       "      <td>cb16edecad38f292756cdc5794a48caa</td>\n",
       "      <td>3.406809</td>\n",
       "      <td>0.0</td>\n",
       "      <td>0.011741</td>\n",
       "      <td>0.000068</td>\n",
       "      <td>1.00</td>\n",
       "      <td>128</td>\n",
       "      <td>3</td>\n",
       "      <td>10</td>\n",
       "      <td>30</td>\n",
       "      <td>hist</td>\n",
       "      <td>False</td>\n",
       "      <td>True</td>\n",
       "      <td>NaN</td>\n",
       "    </tr>\n",
       "    <tr>\n",
       "      <th>13</th>\n",
       "      <td>XGBClassifier</td>\n",
       "      <td>predict</td>\n",
       "      <td>100000</td>\n",
       "      <td>1000</td>\n",
       "      <td>100</td>\n",
       "      <td>8a5dbee6211ce71d6882392fb8a5efe3</td>\n",
       "      <td>cb16edecad38f292756cdc5794a48caa</td>\n",
       "      <td>0.002883</td>\n",
       "      <td>0.0</td>\n",
       "      <td>0.277473</td>\n",
       "      <td>0.000003</td>\n",
       "      <td>1.00</td>\n",
       "      <td>128</td>\n",
       "      <td>3</td>\n",
       "      <td>10</td>\n",
       "      <td>30</td>\n",
       "      <td>hist</td>\n",
       "      <td>False</td>\n",
       "      <td>True</td>\n",
       "      <td>0.761</td>\n",
       "    </tr>\n",
       "    <tr>\n",
       "      <th>14</th>\n",
       "      <td>XGBClassifier</td>\n",
       "      <td>fit</td>\n",
       "      <td>100000</td>\n",
       "      <td>100000</td>\n",
       "      <td>100</td>\n",
       "      <td>69e4adb7f9f32dbc4c6974e98bd3e92a</td>\n",
       "      <td>cb16edecad38f292756cdc5794a48caa</td>\n",
       "      <td>7.490753</td>\n",
       "      <td>0.0</td>\n",
       "      <td>0.005340</td>\n",
       "      <td>0.000150</td>\n",
       "      <td>0.50</td>\n",
       "      <td>255</td>\n",
       "      <td>30</td>\n",
       "      <td>1000</td>\n",
       "      <td>30</td>\n",
       "      <td>hist</td>\n",
       "      <td>False</td>\n",
       "      <td>True</td>\n",
       "      <td>NaN</td>\n",
       "    </tr>\n",
       "    <tr>\n",
       "      <th>15</th>\n",
       "      <td>XGBClassifier</td>\n",
       "      <td>predict</td>\n",
       "      <td>100000</td>\n",
       "      <td>1000</td>\n",
       "      <td>100</td>\n",
       "      <td>69e4adb7f9f32dbc4c6974e98bd3e92a</td>\n",
       "      <td>cb16edecad38f292756cdc5794a48caa</td>\n",
       "      <td>0.005721</td>\n",
       "      <td>0.0</td>\n",
       "      <td>0.139847</td>\n",
       "      <td>0.000006</td>\n",
       "      <td>0.50</td>\n",
       "      <td>255</td>\n",
       "      <td>30</td>\n",
       "      <td>1000</td>\n",
       "      <td>30</td>\n",
       "      <td>hist</td>\n",
       "      <td>False</td>\n",
       "      <td>True</td>\n",
       "      <td>0.767</td>\n",
       "    </tr>\n",
       "    <tr>\n",
       "      <th>16</th>\n",
       "      <td>XGBClassifier</td>\n",
       "      <td>fit</td>\n",
       "      <td>100000</td>\n",
       "      <td>100000</td>\n",
       "      <td>100</td>\n",
       "      <td>cfa981891243112b2f52ba83c68bba14</td>\n",
       "      <td>cb16edecad38f292756cdc5794a48caa</td>\n",
       "      <td>51.250879</td>\n",
       "      <td>0.0</td>\n",
       "      <td>0.000780</td>\n",
       "      <td>0.001025</td>\n",
       "      <td>0.05</td>\n",
       "      <td>128</td>\n",
       "      <td>5</td>\n",
       "      <td>200</td>\n",
       "      <td>1000</td>\n",
       "      <td>hist</td>\n",
       "      <td>False</td>\n",
       "      <td>True</td>\n",
       "      <td>NaN</td>\n",
       "    </tr>\n",
       "    <tr>\n",
       "      <th>17</th>\n",
       "      <td>XGBClassifier</td>\n",
       "      <td>predict</td>\n",
       "      <td>100000</td>\n",
       "      <td>1000</td>\n",
       "      <td>100</td>\n",
       "      <td>cfa981891243112b2f52ba83c68bba14</td>\n",
       "      <td>cb16edecad38f292756cdc5794a48caa</td>\n",
       "      <td>0.024880</td>\n",
       "      <td>0.0</td>\n",
       "      <td>0.032155</td>\n",
       "      <td>0.000025</td>\n",
       "      <td>0.05</td>\n",
       "      <td>128</td>\n",
       "      <td>5</td>\n",
       "      <td>200</td>\n",
       "      <td>1000</td>\n",
       "      <td>hist</td>\n",
       "      <td>False</td>\n",
       "      <td>True</td>\n",
       "      <td>0.777</td>\n",
       "    </tr>\n",
       "  </tbody>\n",
       "</table>\n",
       "</div>"
      ],
      "text/plain": [
       "        estimator function  n_samples_train  n_samples  n_features  \\\n",
       "0   XGBClassifier      fit           100000     100000         100   \n",
       "1   XGBClassifier  predict           100000       1000         100   \n",
       "2   XGBClassifier      fit           100000     100000         100   \n",
       "3   XGBClassifier  predict           100000       1000         100   \n",
       "4   XGBClassifier      fit           100000     100000         100   \n",
       "5   XGBClassifier  predict           100000       1000         100   \n",
       "6   XGBClassifier      fit           100000     100000         100   \n",
       "7   XGBClassifier  predict           100000       1000         100   \n",
       "8   XGBClassifier      fit           100000     100000         100   \n",
       "9   XGBClassifier  predict           100000       1000         100   \n",
       "10  XGBClassifier      fit           100000     100000         100   \n",
       "11  XGBClassifier  predict           100000       1000         100   \n",
       "12  XGBClassifier      fit           100000     100000         100   \n",
       "13  XGBClassifier  predict           100000       1000         100   \n",
       "14  XGBClassifier      fit           100000     100000         100   \n",
       "15  XGBClassifier  predict           100000       1000         100   \n",
       "16  XGBClassifier      fit           100000     100000         100   \n",
       "17  XGBClassifier  predict           100000       1000         100   \n",
       "\n",
       "                  hyperparams_digest                    dataset_digest  \\\n",
       "0   f771bbcd034567f208dfa424be5ee3ae  cb16edecad38f292756cdc5794a48caa   \n",
       "1   f771bbcd034567f208dfa424be5ee3ae  cb16edecad38f292756cdc5794a48caa   \n",
       "2   586c0d02aaa87b8b620578eda9c91479  cb16edecad38f292756cdc5794a48caa   \n",
       "3   586c0d02aaa87b8b620578eda9c91479  cb16edecad38f292756cdc5794a48caa   \n",
       "4   09027116f0f7489de2cb9fa8281d52c4  cb16edecad38f292756cdc5794a48caa   \n",
       "5   09027116f0f7489de2cb9fa8281d52c4  cb16edecad38f292756cdc5794a48caa   \n",
       "6   7170fdb2309ea1a7f476ef271b92bb5b  cb16edecad38f292756cdc5794a48caa   \n",
       "7   7170fdb2309ea1a7f476ef271b92bb5b  cb16edecad38f292756cdc5794a48caa   \n",
       "8   014bad9de0b76cbab3db9d79e2dccc53  cb16edecad38f292756cdc5794a48caa   \n",
       "9   014bad9de0b76cbab3db9d79e2dccc53  cb16edecad38f292756cdc5794a48caa   \n",
       "10  46d43fe7c61c71463e09662a25000fe0  cb16edecad38f292756cdc5794a48caa   \n",
       "11  46d43fe7c61c71463e09662a25000fe0  cb16edecad38f292756cdc5794a48caa   \n",
       "12  8a5dbee6211ce71d6882392fb8a5efe3  cb16edecad38f292756cdc5794a48caa   \n",
       "13  8a5dbee6211ce71d6882392fb8a5efe3  cb16edecad38f292756cdc5794a48caa   \n",
       "14  69e4adb7f9f32dbc4c6974e98bd3e92a  cb16edecad38f292756cdc5794a48caa   \n",
       "15  69e4adb7f9f32dbc4c6974e98bd3e92a  cb16edecad38f292756cdc5794a48caa   \n",
       "16  cfa981891243112b2f52ba83c68bba14  cb16edecad38f292756cdc5794a48caa   \n",
       "17  cfa981891243112b2f52ba83c68bba14  cb16edecad38f292756cdc5794a48caa   \n",
       "\n",
       "     mean_time  stdev_time  throughput   latency  learning_rate  max_bin  \\\n",
       "0   109.412350         0.0    0.000366  0.002188           0.05      255   \n",
       "1     0.035242         0.0    0.022700  0.000035           0.05      255   \n",
       "2     9.794476         0.0    0.004084  0.000196           0.10       32   \n",
       "3     0.010254         0.0    0.078016  0.000010           0.10       32   \n",
       "4    85.624451         0.0    0.000467  0.001712           0.01      255   \n",
       "5     0.026143         0.0    0.030601  0.000026           0.01      255   \n",
       "6    28.890077         0.0    0.001385  0.000578           0.10       64   \n",
       "7     0.019789         0.0    0.040427  0.000020           0.10       64   \n",
       "8    29.190233         0.0    0.001370  0.000584           0.10       64   \n",
       "9     0.026003         0.0    0.030766  0.000026           0.10       64   \n",
       "10    2.791078         0.0    0.014331  0.000056           1.00       64   \n",
       "11    0.003388         0.0    0.236114  0.000003           1.00       64   \n",
       "12    3.406809         0.0    0.011741  0.000068           1.00      128   \n",
       "13    0.002883         0.0    0.277473  0.000003           1.00      128   \n",
       "14    7.490753         0.0    0.005340  0.000150           0.50      255   \n",
       "15    0.005721         0.0    0.139847  0.000006           0.50      255   \n",
       "16   51.250879         0.0    0.000780  0.001025           0.05      128   \n",
       "17    0.024880         0.0    0.032155  0.000025           0.05      128   \n",
       "\n",
       "    max_leaf_nodes  min_samples_leaf  n_estimators tree_method  \\\n",
       "0                5              1000          1000        hist   \n",
       "1                5              1000          1000        hist   \n",
       "2                5                20           100        hist   \n",
       "3                5                20           100        hist   \n",
       "4               20                20           300        hist   \n",
       "5               20                20           300        hist   \n",
       "6               20                20          1000        hist   \n",
       "7               20                20          1000        hist   \n",
       "8               50                 2           300        hist   \n",
       "9               50                 2           300        hist   \n",
       "10              30               200          1000        hist   \n",
       "11              30               200          1000        hist   \n",
       "12               3                10            30        hist   \n",
       "13               3                10            30        hist   \n",
       "14              30              1000            30        hist   \n",
       "15              30              1000            30        hist   \n",
       "16               5               200          1000        hist   \n",
       "17               5               200          1000        hist   \n",
       "\n",
       "    use_label_encoder  validate_parameters  accuracy_score  \n",
       "0               False                 True             NaN  \n",
       "1               False                 True           0.791  \n",
       "2               False                 True             NaN  \n",
       "3               False                 True           0.770  \n",
       "4               False                 True             NaN  \n",
       "5               False                 True           0.760  \n",
       "6               False                 True             NaN  \n",
       "7               False                 True           0.782  \n",
       "8               False                 True             NaN  \n",
       "9               False                 True           0.782  \n",
       "10              False                 True             NaN  \n",
       "11              False                 True           0.760  \n",
       "12              False                 True             NaN  \n",
       "13              False                 True           0.761  \n",
       "14              False                 True             NaN  \n",
       "15              False                 True           0.767  \n",
       "16              False                 True             NaN  \n",
       "17              False                 True           0.777  "
      ]
     },
     "execution_count": 28,
     "metadata": {},
     "output_type": "execute_result"
    }
   ],
   "source": [
    "df_xgb"
   ]
  },
  {
   "cell_type": "code",
   "execution_count": 29,
   "id": "e6669ed9",
   "metadata": {},
   "outputs": [],
   "source": [
    "def compute_cumulated(fit_times, scores):\n",
    "    cumulated_fit_times = fit_times.cumsum()\n",
    "    best_val_score_so_far = pd.Series(scores).cummax()\n",
    "    return cumulated_fit_times, best_val_score_so_far"
   ]
  },
  {
   "cell_type": "code",
   "execution_count": 30,
   "id": "64cff5e9",
   "metadata": {},
   "outputs": [],
   "source": [
    "fit_times_skl = df_skl[df_skl[\"function\"] == \"fit\"][\"mean_time\"].values\n",
    "fit_times_lgbm = df_lgbm[df_lgbm[\"function\"] == \"fit\"][\"mean_time\"].values\n",
    "fit_times_xgb = df_xgb[df_xgb[\"function\"] == \"fit\"][\"mean_time\"].values\n",
    "scores_skl = df_skl[df_skl[\"function\"] == \"predict\"][\"accuracy_score\"].values\n",
    "scores_lgbm = df_lgbm[df_lgbm[\"function\"] == \"predict\"][\"accuracy_score\"].values\n",
    "scores_xgb = df_xgb[df_xgb[\"function\"] == \"predict\"][\"accuracy_score\"].values"
   ]
  },
  {
   "cell_type": "code",
   "execution_count": 72,
   "id": "passive-activation",
   "metadata": {},
   "outputs": [
    {
     "data": {
      "text/plain": [
       "<matplotlib.collections.PathCollection at 0x143572be0>"
      ]
     },
     "execution_count": 72,
     "metadata": {},
     "output_type": "execute_result"
    },
    {
     "data": {
      "image/png": "[encoded data removed]",
      "text/plain": [
       "<Figure size 432x288 with 1 Axes>"
      ]
     },
     "metadata": {
      "needs_background": "light"
     },
     "output_type": "display_data"
    }
   ],
   "source": [
    "plt.scatter(fit_times_xgb, scores_xgb)"
   ]
  },
  {
   "cell_type": "code",
   "execution_count": 31,
   "id": "915593c1",
   "metadata": {},
   "outputs": [],
   "source": [
    "cumulated_fit_times_skl, best_val_score_so_far_skl = compute_cumulated(fit_times_skl, scores_skl)\n",
    "cumulated_fit_times_lgbm, best_val_score_so_far_lgbm = compute_cumulated(fit_times_lgbm, scores_lgbm)\n",
    "cumulated_fit_times_xgb, best_val_score_so_far_xgb = compute_cumulated(fit_times_xgb, scores_xgb)"
   ]
  },
  {
   "cell_type": "code",
   "execution_count": 32,
   "id": "741e3afc",
   "metadata": {},
   "outputs": [
    {
     "data": {
      "image/png": "[encoded data removed]",
      "text/plain": [
       "<Figure size 432x288 with 1 Axes>"
      ]
     },
     "metadata": {
      "needs_background": "light"
     },
     "output_type": "display_data"
    }
   ],
   "source": [
    "plt.scatter(cumulated_fit_times_skl, scores_skl, c=\"tab:blue\", label=\"scikit-learn\")\n",
    "plt.scatter(cumulated_fit_times_lgbm, scores_lgbm, c=\"tab:orange\", label=\"lightgbm\")\n",
    "plt.scatter(cumulated_fit_times_xgb, scores_xgb, c=\"tab:red\", label=\"xgboost\")\n",
    "plt.xlabel(\"Cumulated fit times in s\")\n",
    "plt.ylabel(\"Validation scores\")\n",
    "plt.legend();"
   ]
  },
  {
   "cell_type": "code",
   "execution_count": 71,
   "id": "7e85922b",
   "metadata": {},
   "outputs": [
    {
     "data": {
      "image/png": "[encoded data removed]",
      "text/plain": [
       "<Figure size 432x288 with 1 Axes>"
      ]
     },
     "metadata": {
      "needs_background": "light"
     },
     "output_type": "display_data"
    }
   ],
   "source": [
    "# plt.scatter(cumulated_fit_times_skl, scores_skl, c=\"tab:blue\", alpha=0.3)\n",
    "# plt.scatter(cumulated_fit_times_lgbm, scores_lgbm, c=\"tab:orange\", alpha=0.3)\n",
    "plt.scatter(cumulated_fit_times_xgb, scores_xgb, c=\"tab:red\", alpha=0.3)\n",
    "\n",
    "# plt.plot(cumulated_fit_times_skl, best_val_score_so_far_skl, c='tab:blue', label=\"scikit-learn\")\n",
    "# plt.plot(cumulated_fit_times_lgbm, best_val_score_so_far_lgbm, c='tab:orange', label=\"lightgbm\")\n",
    "plt.plot(cumulated_fit_times_xgb, best_val_score_so_far_xgb, c='tab:red', label=\"xgboost\")\n",
    "\n",
    "plt.xlabel(\"Cumulated fit times in s\")\n",
    "plt.ylabel(\"Validation scores\")\n",
    "\n",
    "plt.legend();"
   ]
  },
  {
   "cell_type": "code",
   "execution_count": 34,
   "id": "minus-paintball",
   "metadata": {},
   "outputs": [
    {
     "data": {
      "text/plain": [
       "((9,), (9,))"
      ]
     },
     "execution_count": 34,
     "metadata": {},
     "output_type": "execute_result"
    }
   ],
   "source": [
    "fit_times_xgb.shape, scores_xgb.shape"
   ]
  },
  {
   "cell_type": "code",
   "execution_count": 37,
   "id": "unauthorized-limitation",
   "metadata": {},
   "outputs": [
    {
     "data": {
      "text/plain": [
       "array([0.791, 0.77 , 0.76 , 0.782, 0.782, 0.76 , 0.761, 0.767, 0.777])"
      ]
     },
     "execution_count": 37,
     "metadata": {},
     "output_type": "execute_result"
    }
   ],
   "source": [
    "scores_xgb"
   ]
  },
  {
   "cell_type": "code",
   "execution_count": 38,
   "id": "nearby-aquatic",
   "metadata": {},
   "outputs": [
    {
     "data": {
      "text/plain": [
       "0    0.791\n",
       "1    0.791\n",
       "2    0.791\n",
       "3    0.791\n",
       "4    0.791\n",
       "5    0.791\n",
       "6    0.791\n",
       "7    0.791\n",
       "8    0.791\n",
       "dtype: float64"
      ]
     },
     "execution_count": 38,
     "metadata": {},
     "output_type": "execute_result"
    }
   ],
   "source": [
    "cum_scores_xgb"
   ]
  },
  {
   "cell_type": "code",
   "execution_count": 39,
   "id": "naughty-evans",
   "metadata": {},
   "outputs": [
    {
     "data": {
      "text/plain": [
       "0    0.760\n",
       "1    0.782\n",
       "2    0.782\n",
       "3    0.791\n",
       "4    0.791\n",
       "5    0.791\n",
       "6    0.791\n",
       "7    0.791\n",
       "8    0.791\n",
       "dtype: float64"
      ]
     },
     "execution_count": 39,
     "metadata": {},
     "output_type": "execute_result"
    }
   ],
   "source": [
    "cum_scores_xgb_p"
   ]
  },
  {
   "cell_type": "code",
   "execution_count": 76,
   "id": "serious-slovakia",
   "metadata": {},
   "outputs": [
    {
     "data": {
      "text/plain": [
       "40320"
      ]
     },
     "execution_count": 76,
     "metadata": {},
     "output_type": "execute_result"
    }
   ],
   "source": [
    "import math\n",
    "\n",
    "math.factorial(8)"
   ]
  },
  {
   "cell_type": "code",
   "execution_count": 95,
   "id": "color-mineral",
   "metadata": {},
   "outputs": [
    {
     "data": {
      "text/plain": [
       "Text(0, 0.5, 'Validation scores')"
      ]
     },
     "execution_count": 95,
     "metadata": {},
     "output_type": "execute_result"
    },
    {
     "data": {
      "image/png": "[encoded data removed]",
      "text/plain": [
       "<Figure size 864x576 with 1 Axes>"
      ]
     },
     "metadata": {
      "needs_background": "light"
     },
     "output_type": "display_data"
    }
   ],
   "source": [
    "plt.figure(figsize=(12, 8))\n",
    "grid_times = np.linspace(0, TIME_BUDGET, 1000)\n",
    "cum_fit_times_xgb, cum_scores_xgb = compute_cumulated(fit_times_xgb, scores_xgb)\n",
    "# plt.plot(cum_scores_xgb, cum_fit_times_xgb, label=\"original order\", alpha=0.3)\n",
    "plt.plot(cum_fit_times_xgb, cum_scores_xgb, label=\"original order\", alpha=0.3)\n",
    "\n",
    "baseline_score = 0.7\n",
    "grid_scores = np.linspace(baseline_score, cum_scores_xgb.max(), 1000)\n",
    "all_fit_times = []\n",
    "\n",
    "for i in range(10):\n",
    "    indices = rng.permutation(fit_times_xgb.shape[0])\n",
    "    cum_fit_times_xgb_p, cum_scores_xgb_p = compute_cumulated(fit_times_xgb[indices], scores_xgb[indices])\n",
    "    grid_fit_times = np.interp(\n",
    "        grid_scores,\n",
    "        cum_scores_xgb_p,\n",
    "        cum_fit_times_xgb_p,\n",
    "#         left=0,\n",
    "        right=cum_fit_times_xgb.max(),\n",
    "    )\n",
    "#     plt.plot(cum_fit_times_xgb_p, cum_scores_xgb_p, label=f\"perm {i}\", alpha=0.3)\n",
    "#     plt.plot(grid_fit_times, grid_scores, '--', label=f\"interp perm {i}\", alpha=0.1)\n",
    "    plt.plot(cum_fit_times_xgb_p, cum_scores_xgb_p, label=f\"perm {i}\", alpha=0.3)\n",
    "    plt.plot(grid_fit_times, grid_scores, '--', label=f\"interp perm {i}\", alpha=0.1)\n",
    "    all_fit_times.append(grid_fit_times)\n",
    "\n",
    "# plt.plot(grid_scores, np.mean(all_fit_times, axis=0), label=f\"mean perm\")\n",
    "plt.plot(np.mean(all_fit_times, axis=0), grid_scores, label=f\"mean perm\")\n",
    "plt.xlabel(\"Cumulated fit times in s\")\n",
    "plt.ylabel(\"Validation scores\")\n",
    "# plt.ylim(0.5, 0.8)\n",
    "# plt.legend(loc=\"best\");\n"
   ]
  },
  {
   "cell_type": "code",
   "execution_count": 12,
   "id": "3dbef68e",
   "metadata": {},
   "outputs": [],
   "source": [
    "def permutated_curve(grid_times, fit_times, scores, rng):\n",
    "    assert fit_times.shape == scores.shape\n",
    "    assert fit_times.ndim == 1\n",
    "    indices = rng.permutation(fit_times.shape[0])\n",
    "    cum_fit_times, cum_scores = compute_cumulated(fit_times[indices], scores[indices])\n",
    "    grid_scores = np.interp(\n",
    "        grid_times,\n",
    "        cum_fit_times,\n",
    "        cum_scores,\n",
    "        left=0,\n",
    "        right=scores.max()\n",
    "    )\n",
    "    return grid_scores"
   ]
  },
  {
   "cell_type": "code",
   "execution_count": 13,
   "id": "d2d6ca04",
   "metadata": {},
   "outputs": [],
   "source": [
    "rng = np.random.RandomState(1)"
   ]
  },
  {
   "cell_type": "code",
   "execution_count": 14,
   "id": "ab820d69",
   "metadata": {},
   "outputs": [],
   "source": [
    "def mean_permutated_curve(fit_times, scores, seed=0, n_permutations=1000, time_budget=TIME_BUDGET):\n",
    "    grid_times = np.linspace(0, time_budget, 1000)\n",
    "    rng = np.random.RandomState(seed)\n",
    "    grid_scores_all = []\n",
    "    for _ in range(n_permutations):\n",
    "        grid_scores = permutated_curve(grid_times, fit_times, scores, rng)\n",
    "        grid_scores_all.append(grid_scores)\n",
    "    return grid_times, np.mean(grid_scores_all, axis=0)"
   ]
  },
  {
   "cell_type": "code",
   "execution_count": 15,
   "id": "547eb48c",
   "metadata": {},
   "outputs": [],
   "source": [
    "grid_times_skl, scores_skl = mean_permutated_curve(fit_times_skl, scores_skl)\n",
    "grid_times_lgbm, scores_lgbm = mean_permutated_curve(fit_times_lgbm, scores_lgbm)\n",
    "grid_times_xgb, scores_xgb = mean_permutated_curve(fit_times_xgb, scores_xgb)"
   ]
  },
  {
   "cell_type": "code",
   "execution_count": 16,
   "id": "409c4f67",
   "metadata": {},
   "outputs": [
    {
     "data": {
      "image/png": "[encoded data removed]",
      "text/plain": [
       "<Figure size 432x288 with 1 Axes>"
      ]
     },
     "metadata": {
      "needs_background": "light"
     },
     "output_type": "display_data"
    }
   ],
   "source": [
    "plt.plot(grid_times_skl, scores_skl, c='tab:blue', label=\"scikit-learn\")\n",
    "plt.plot(grid_times_lgbm, scores_lgbm, c='tab:orange', label=\"lightgbm\")\n",
    "plt.plot(grid_times_xgb, scores_xgb, c='tab:red', label=\"xgboost\")\n",
    "\n",
    "plt.xlabel(\"Cumulated fit times in s\")\n",
    "plt.ylabel(\"Validation scores\")\n",
    "\n",
    "plt.legend();"
   ]
  },
  {
   "cell_type": "code",
   "execution_count": null,
   "id": "rocky-petroleum",
   "metadata": {},
   "outputs": [],
   "source": []
  }
 ],
 "metadata": {
  "kernelspec": {
   "display_name": "Python 3",
   "language": "python",
   "name": "python3"
  },
  "language_info": {
   "codemirror_mode": {
    "name": "ipython",
    "version": 3
   },
   "file_extension": ".py",
   "mimetype": "text/x-python",
   "name": "python",
   "nbconvert_exporter": "python",
   "pygments_lexer": "ipython3",
   "version": "3.9.2"
  }
 },
 "nbformat": 4,
 "nbformat_minor": 5
}
