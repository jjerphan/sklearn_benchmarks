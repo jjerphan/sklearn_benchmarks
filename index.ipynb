{
 "cells": [
  {
   "cell_type": "code",
   "execution_count": 1,
   "id": "fe7085ab",
   "metadata": {},
   "outputs": [],
   "source": [
    "from sklearn_benchmarks.utils import print_time_report, print_benchmark_environment_information, display_links_to_notebooks, display_time_last_run\n",
    "import pandas as pd\n",
    "pd.set_option('display.max_colwidth', None)\n",
    "pd.set_option('display.max_columns', None)\n",
    "pd.set_option('display.max_rows', None)"
   ]
  },
  {
   "cell_type": "markdown",
   "id": "73e69dfb",
   "metadata": {},
   "source": [
    "# sklearn_benchmarks reporting"
   ]
  },
  {
   "cell_type": "code",
   "execution_count": 2,
   "id": "28076c1e",
   "metadata": {},
   "outputs": [
    {
     "data": {
      "text/markdown": [
       "> Last run: Tuesday 31 August, 2021 at 13:18:29."
      ],
      "text/plain": [
       "<IPython.core.display.Markdown object>"
      ]
     },
     "metadata": {},
     "output_type": "display_data"
    }
   ],
   "source": [
    "display_time_last_run()"
   ]
  },
  {
   "cell_type": "code",
   "execution_count": 3,
   "id": "dadf2ea6",
   "metadata": {},
   "outputs": [
    {
     "data": {
      "text/markdown": [
       "## Notebooks"
      ],
      "text/plain": [
       "<IPython.core.display.Markdown object>"
      ]
     },
     "metadata": {},
     "output_type": "display_data"
    },
    {
     "data": {
      "text/markdown": [
       "### [scikit-learn-intelex (Intel® oneAPI) vs. scikit-learn benchmarks](http://localhost:8888/notebooks/scikit_learn_intelex_vs_scikit_learn.ipynb)"
      ],
      "text/plain": [
       "<IPython.core.display.Markdown object>"
      ]
     },
     "metadata": {},
     "output_type": "display_data"
    },
    {
     "data": {
      "text/markdown": [
       "### [ONNX Runtime (Microsoft) vs. scikit-learn benchmarks](http://localhost:8888/notebooks/onnx_vs_scikit_learn.ipynb)"
      ],
      "text/plain": [
       "<IPython.core.display.Markdown object>"
      ]
     },
     "metadata": {},
     "output_type": "display_data"
    },
    {
     "data": {
      "text/markdown": [
       "### [Gradient boosting: randomized HPO benchmarks](http://localhost:8888/notebooks/gradient_boosting.ipynb)"
      ],
      "text/plain": [
       "<IPython.core.display.Markdown object>"
      ]
     },
     "metadata": {},
     "output_type": "display_data"
    }
   ],
   "source": [
    "display_links_to_notebooks()"
   ]
  },
  {
   "cell_type": "code",
   "execution_count": 4,
   "id": "0619f640",
   "metadata": {
    "scrolled": false
   },
   "outputs": [
    {
     "data": {
      "text/markdown": [
       "## Time report"
      ],
      "text/plain": [
       "<IPython.core.display.Markdown object>"
      ]
     },
     "metadata": {},
     "output_type": "display_data"
    },
    {
     "data": {
      "text/markdown": [
       "Total time elapsed: 1h 25m 4s"
      ],
      "text/plain": [
       "<IPython.core.display.Markdown object>"
      ]
     },
     "metadata": {},
     "output_type": "display_data"
    },
    {
     "data": {
      "text/markdown": [
       "### Hyperparameters match benchmarks"
      ],
      "text/plain": [
       "<IPython.core.display.Markdown object>"
      ]
     },
     "metadata": {},
     "output_type": "display_data"
    },
    {
     "data": {
      "text/html": [
       "<div>\n",
       "<style scoped>\n",
       "    .dataframe tbody tr th:only-of-type {\n",
       "        vertical-align: middle;\n",
       "    }\n",
       "\n",
       "    .dataframe tbody tr th {\n",
       "        vertical-align: top;\n",
       "    }\n",
       "\n",
       "    .dataframe thead th {\n",
       "        text-align: right;\n",
       "    }\n",
       "</style>\n",
       "<table border=\"1\" class=\"dataframe\">\n",
       "  <thead>\n",
       "    <tr style=\"text-align: right;\">\n",
       "      <th></th>\n",
       "      <th>time elapsed</th>\n",
       "    </tr>\n",
       "    <tr>\n",
       "      <th>estimator</th>\n",
       "      <th></th>\n",
       "    </tr>\n",
       "  </thead>\n",
       "  <tbody>\n",
       "    <tr>\n",
       "      <th>sklearnex_Ridge</th>\n",
       "      <td>6s</td>\n",
       "    </tr>\n",
       "    <tr>\n",
       "      <th>sklearnex_KMeans_short</th>\n",
       "      <td>7s</td>\n",
       "    </tr>\n",
       "    <tr>\n",
       "      <th>KMeans_short</th>\n",
       "      <td>16s</td>\n",
       "    </tr>\n",
       "    <tr>\n",
       "      <th>sklearnex_KNeighborsClassifier_brute_force</th>\n",
       "      <td>23s</td>\n",
       "    </tr>\n",
       "    <tr>\n",
       "      <th>Ridge</th>\n",
       "      <td>24s</td>\n",
       "    </tr>\n",
       "    <tr>\n",
       "      <th>sklearnex_LogisticRegression</th>\n",
       "      <td>34s</td>\n",
       "    </tr>\n",
       "    <tr>\n",
       "      <th>LogisticRegression</th>\n",
       "      <td>1m 6s</td>\n",
       "    </tr>\n",
       "    <tr>\n",
       "      <th>sklearnex_KMeans_tall</th>\n",
       "      <td>1m 12s</td>\n",
       "    </tr>\n",
       "    <tr>\n",
       "      <th>sklearnex_KNeighborsClassifier_kd_tree</th>\n",
       "      <td>1m 13s</td>\n",
       "    </tr>\n",
       "    <tr>\n",
       "      <th>KMeans_tall</th>\n",
       "      <td>1m 41s</td>\n",
       "    </tr>\n",
       "    <tr>\n",
       "      <th>HistGradientBoostingClassifier_best</th>\n",
       "      <td>3m 43s</td>\n",
       "    </tr>\n",
       "    <tr>\n",
       "      <th>KNeighborsClassifier_kd_tree</th>\n",
       "      <td>5m 34s</td>\n",
       "    </tr>\n",
       "    <tr>\n",
       "      <th>KNeighborsClassifier_brute_force</th>\n",
       "      <td>15m 12s</td>\n",
       "    </tr>\n",
       "  </tbody>\n",
       "</table>\n",
       "</div>"
      ],
      "text/plain": [
       "                                           time elapsed\n",
       "estimator                                              \n",
       "sklearnex_Ridge                                      6s\n",
       "sklearnex_KMeans_short                               7s\n",
       "KMeans_short                                        16s\n",
       "sklearnex_KNeighborsClassifier_brute_force          23s\n",
       "Ridge                                               24s\n",
       "sklearnex_LogisticRegression                        34s\n",
       "LogisticRegression                                1m 6s\n",
       "sklearnex_KMeans_tall                            1m 12s\n",
       "sklearnex_KNeighborsClassifier_kd_tree           1m 13s\n",
       "KMeans_tall                                      1m 41s\n",
       "HistGradientBoostingClassifier_best              3m 43s\n",
       "KNeighborsClassifier_kd_tree                     5m 34s\n",
       "KNeighborsClassifier_brute_force                15m 12s"
      ]
     },
     "metadata": {},
     "output_type": "display_data"
    },
    {
     "data": {
      "text/markdown": [
       "### Hyperparameters optimization benchmarks"
      ],
      "text/plain": [
       "<IPython.core.display.Markdown object>"
      ]
     },
     "metadata": {},
     "output_type": "display_data"
    },
    {
     "data": {
      "text/html": [
       "<div>\n",
       "<style scoped>\n",
       "    .dataframe tbody tr th:only-of-type {\n",
       "        vertical-align: middle;\n",
       "    }\n",
       "\n",
       "    .dataframe tbody tr th {\n",
       "        vertical-align: top;\n",
       "    }\n",
       "\n",
       "    .dataframe thead th {\n",
       "        text-align: right;\n",
       "    }\n",
       "</style>\n",
       "<table border=\"1\" class=\"dataframe\">\n",
       "  <thead>\n",
       "    <tr style=\"text-align: right;\">\n",
       "      <th></th>\n",
       "      <th>time elapsed</th>\n",
       "    </tr>\n",
       "    <tr>\n",
       "      <th>estimator</th>\n",
       "      <th></th>\n",
       "    </tr>\n",
       "  </thead>\n",
       "  <tbody>\n",
       "    <tr>\n",
       "      <th>HistGradientBoostingClassifier</th>\n",
       "      <td>10m 1s</td>\n",
       "    </tr>\n",
       "    <tr>\n",
       "      <th>catboost_lossguide</th>\n",
       "      <td>10m 6s</td>\n",
       "    </tr>\n",
       "    <tr>\n",
       "      <th>xgboost</th>\n",
       "      <td>10m 14s</td>\n",
       "    </tr>\n",
       "    <tr>\n",
       "      <th>lightgbm</th>\n",
       "      <td>11m 31s</td>\n",
       "    </tr>\n",
       "    <tr>\n",
       "      <th>catboost_symmetric</th>\n",
       "      <td>11m 39s</td>\n",
       "    </tr>\n",
       "  </tbody>\n",
       "</table>\n",
       "</div>"
      ],
      "text/plain": [
       "                               time elapsed\n",
       "estimator                                  \n",
       "HistGradientBoostingClassifier       10m 1s\n",
       "catboost_lossguide                   10m 6s\n",
       "xgboost                             10m 14s\n",
       "lightgbm                            11m 31s\n",
       "catboost_symmetric                  11m 39s"
      ]
     },
     "metadata": {},
     "output_type": "display_data"
    }
   ],
   "source": [
    "print_time_report()"
   ]
  },
  {
   "cell_type": "code",
   "execution_count": 5,
   "id": "804d5b49",
   "metadata": {},
   "outputs": [
    {
     "data": {
      "text/markdown": [
       "## Benchmark environment information"
      ],
      "text/plain": [
       "<IPython.core.display.Markdown object>"
      ]
     },
     "metadata": {},
     "output_type": "display_data"
    },
    {
     "data": {
      "text/markdown": [
       "### System"
      ],
      "text/plain": [
       "<IPython.core.display.Markdown object>"
      ]
     },
     "metadata": {},
     "output_type": "display_data"
    },
    {
     "data": {
      "text/html": [
       "<div>\n",
       "<style scoped>\n",
       "    .dataframe tbody tr th:only-of-type {\n",
       "        vertical-align: middle;\n",
       "    }\n",
       "\n",
       "    .dataframe tbody tr th {\n",
       "        vertical-align: top;\n",
       "    }\n",
       "\n",
       "    .dataframe thead th {\n",
       "        text-align: right;\n",
       "    }\n",
       "</style>\n",
       "<table border=\"1\" class=\"dataframe\">\n",
       "  <thead>\n",
       "    <tr style=\"text-align: right;\">\n",
       "      <th></th>\n",
       "      <th></th>\n",
       "    </tr>\n",
       "  </thead>\n",
       "  <tbody>\n",
       "    <tr>\n",
       "      <th>python</th>\n",
       "      <td>3.8.10 (default, Jun  2 2021, 10:49:15)  [GCC 9.4.0]</td>\n",
       "    </tr>\n",
       "    <tr>\n",
       "      <th>executable</th>\n",
       "      <td>/usr/bin/python</td>\n",
       "    </tr>\n",
       "    <tr>\n",
       "      <th>machine</th>\n",
       "      <td>Linux-5.8.0-1039-azure-x86_64-with-glibc2.29</td>\n",
       "    </tr>\n",
       "  </tbody>\n",
       "</table>\n",
       "</div>"
      ],
      "text/plain": [
       "                                                                \n",
       "python      3.8.10 (default, Jun  2 2021, 10:49:15)  [GCC 9.4.0]\n",
       "executable                                       /usr/bin/python\n",
       "machine             Linux-5.8.0-1039-azure-x86_64-with-glibc2.29"
      ]
     },
     "metadata": {},
     "output_type": "display_data"
    },
    {
     "data": {
      "text/markdown": [
       "### Dependencies"
      ],
      "text/plain": [
       "<IPython.core.display.Markdown object>"
      ]
     },
     "metadata": {},
     "output_type": "display_data"
    },
    {
     "data": {
      "text/html": [
       "<div>\n",
       "<style scoped>\n",
       "    .dataframe tbody tr th:only-of-type {\n",
       "        vertical-align: middle;\n",
       "    }\n",
       "\n",
       "    .dataframe tbody tr th {\n",
       "        vertical-align: top;\n",
       "    }\n",
       "\n",
       "    .dataframe thead th {\n",
       "        text-align: right;\n",
       "    }\n",
       "</style>\n",
       "<table border=\"1\" class=\"dataframe\">\n",
       "  <thead>\n",
       "    <tr style=\"text-align: right;\">\n",
       "      <th></th>\n",
       "      <th>version</th>\n",
       "    </tr>\n",
       "  </thead>\n",
       "  <tbody>\n",
       "    <tr>\n",
       "      <th>pip</th>\n",
       "      <td>20.0.2</td>\n",
       "    </tr>\n",
       "    <tr>\n",
       "      <th>setuptools</th>\n",
       "      <td>45.2.0</td>\n",
       "    </tr>\n",
       "    <tr>\n",
       "      <th>sklearn</th>\n",
       "      <td>1.0.dev0</td>\n",
       "    </tr>\n",
       "    <tr>\n",
       "      <th>numpy</th>\n",
       "      <td>1.21.2</td>\n",
       "    </tr>\n",
       "    <tr>\n",
       "      <th>scipy</th>\n",
       "      <td>1.7.1</td>\n",
       "    </tr>\n",
       "    <tr>\n",
       "      <th>Cython</th>\n",
       "      <td>None</td>\n",
       "    </tr>\n",
       "    <tr>\n",
       "      <th>pandas</th>\n",
       "      <td>1.3.2</td>\n",
       "    </tr>\n",
       "    <tr>\n",
       "      <th>matplotlib</th>\n",
       "      <td>3.4.3</td>\n",
       "    </tr>\n",
       "    <tr>\n",
       "      <th>joblib</th>\n",
       "      <td>1.0.1</td>\n",
       "    </tr>\n",
       "    <tr>\n",
       "      <th>threadpoolctl</th>\n",
       "      <td>2.2.0</td>\n",
       "    </tr>\n",
       "  </tbody>\n",
       "</table>\n",
       "</div>"
      ],
      "text/plain": [
       "                version\n",
       "pip              20.0.2\n",
       "setuptools       45.2.0\n",
       "sklearn        1.0.dev0\n",
       "numpy            1.21.2\n",
       "scipy             1.7.1\n",
       "Cython             None\n",
       "pandas            1.3.2\n",
       "matplotlib        3.4.3\n",
       "joblib            1.0.1\n",
       "threadpoolctl     2.2.0"
      ]
     },
     "metadata": {},
     "output_type": "display_data"
    },
    {
     "data": {
      "text/markdown": [
       "### Threadpool"
      ],
      "text/plain": [
       "<IPython.core.display.Markdown object>"
      ]
     },
     "metadata": {},
     "output_type": "display_data"
    },
    {
     "data": {
      "text/html": [
       "<div>\n",
       "<style scoped>\n",
       "    .dataframe tbody tr th:only-of-type {\n",
       "        vertical-align: middle;\n",
       "    }\n",
       "\n",
       "    .dataframe tbody tr th {\n",
       "        vertical-align: top;\n",
       "    }\n",
       "\n",
       "    .dataframe thead th {\n",
       "        text-align: right;\n",
       "    }\n",
       "</style>\n",
       "<table border=\"1\" class=\"dataframe\">\n",
       "  <thead>\n",
       "    <tr style=\"text-align: right;\">\n",
       "      <th></th>\n",
       "      <th>filepath</th>\n",
       "      <th>prefix</th>\n",
       "      <th>user_api</th>\n",
       "      <th>internal_api</th>\n",
       "      <th>version</th>\n",
       "      <th>num_threads</th>\n",
       "      <th>threading_layer</th>\n",
       "      <th>architecture</th>\n",
       "    </tr>\n",
       "  </thead>\n",
       "  <tbody>\n",
       "    <tr>\n",
       "      <th>0</th>\n",
       "      <td>/home/runner/.local/lib/python3.8/site-packages/numpy.libs/libopenblasp-r0-2d23e62b.3.17.so</td>\n",
       "      <td>libopenblas</td>\n",
       "      <td>blas</td>\n",
       "      <td>openblas</td>\n",
       "      <td>0.3.17</td>\n",
       "      <td>2</td>\n",
       "      <td>pthreads</td>\n",
       "      <td>SkylakeX</td>\n",
       "    </tr>\n",
       "    <tr>\n",
       "      <th>1</th>\n",
       "      <td>/home/runner/.local/lib/python3.8/site-packages/scikit_learn.libs/libgomp-f7e03b3e.so.1.0.0</td>\n",
       "      <td>libgomp</td>\n",
       "      <td>openmp</td>\n",
       "      <td>openmp</td>\n",
       "      <td>None</td>\n",
       "      <td>2</td>\n",
       "      <td>NaN</td>\n",
       "      <td>NaN</td>\n",
       "    </tr>\n",
       "    <tr>\n",
       "      <th>2</th>\n",
       "      <td>/home/runner/.local/lib/python3.8/site-packages/scipy.libs/libopenblasp-r0-085ca80a.3.9.so</td>\n",
       "      <td>libopenblas</td>\n",
       "      <td>blas</td>\n",
       "      <td>openblas</td>\n",
       "      <td>0.3.9</td>\n",
       "      <td>2</td>\n",
       "      <td>pthreads</td>\n",
       "      <td>Haswell</td>\n",
       "    </tr>\n",
       "    <tr>\n",
       "      <th>3</th>\n",
       "      <td>/usr/lib/x86_64-linux-gnu/libgomp.so.1.0.0</td>\n",
       "      <td>libgomp</td>\n",
       "      <td>openmp</td>\n",
       "      <td>openmp</td>\n",
       "      <td>None</td>\n",
       "      <td>2</td>\n",
       "      <td>NaN</td>\n",
       "      <td>NaN</td>\n",
       "    </tr>\n",
       "  </tbody>\n",
       "</table>\n",
       "</div>"
      ],
      "text/plain": [
       "                                                                                      filepath  \\\n",
       "0  /home/runner/.local/lib/python3.8/site-packages/numpy.libs/libopenblasp-r0-2d23e62b.3.17.so   \n",
       "1  /home/runner/.local/lib/python3.8/site-packages/scikit_learn.libs/libgomp-f7e03b3e.so.1.0.0   \n",
       "2   /home/runner/.local/lib/python3.8/site-packages/scipy.libs/libopenblasp-r0-085ca80a.3.9.so   \n",
       "3                                                   /usr/lib/x86_64-linux-gnu/libgomp.so.1.0.0   \n",
       "\n",
       "        prefix user_api internal_api version  num_threads threading_layer  \\\n",
       "0  libopenblas     blas     openblas  0.3.17            2        pthreads   \n",
       "1      libgomp   openmp       openmp    None            2             NaN   \n",
       "2  libopenblas     blas     openblas   0.3.9            2        pthreads   \n",
       "3      libgomp   openmp       openmp    None            2             NaN   \n",
       "\n",
       "  architecture  \n",
       "0     SkylakeX  \n",
       "1          NaN  \n",
       "2      Haswell  \n",
       "3          NaN  "
      ]
     },
     "metadata": {},
     "output_type": "display_data"
    },
    {
     "data": {
      "text/markdown": [
       "### CPU count"
      ],
      "text/plain": [
       "<IPython.core.display.Markdown object>"
      ]
     },
     "metadata": {},
     "output_type": "display_data"
    },
    {
     "data": {
      "text/html": [
       "<div>\n",
       "<style scoped>\n",
       "    .dataframe tbody tr th:only-of-type {\n",
       "        vertical-align: middle;\n",
       "    }\n",
       "\n",
       "    .dataframe tbody tr th {\n",
       "        vertical-align: top;\n",
       "    }\n",
       "\n",
       "    .dataframe thead th {\n",
       "        text-align: right;\n",
       "    }\n",
       "</style>\n",
       "<table border=\"1\" class=\"dataframe\">\n",
       "  <thead>\n",
       "    <tr style=\"text-align: right;\">\n",
       "      <th></th>\n",
       "      <th></th>\n",
       "    </tr>\n",
       "  </thead>\n",
       "  <tbody>\n",
       "    <tr>\n",
       "      <th>cpu_count</th>\n",
       "      <td>2</td>\n",
       "    </tr>\n",
       "  </tbody>\n",
       "</table>\n",
       "</div>"
      ],
      "text/plain": [
       "            \n",
       "cpu_count  2"
      ]
     },
     "metadata": {},
     "output_type": "display_data"
    }
   ],
   "source": [
    "print_benchmark_environment_information()"
   ]
  }
 ],
 "metadata": {
  "kernelspec": {
   "display_name": "Python 3 (ipykernel)",
   "language": "python",
   "name": "python3"
  },
  "language_info": {
   "codemirror_mode": {
    "name": "ipython",
    "version": 3
   },
   "file_extension": ".py",
   "mimetype": "text/x-python",
   "name": "python",
   "nbconvert_exporter": "python",
   "pygments_lexer": "ipython3",
   "version": "3.9.7"
  }
 },
 "nbformat": 4,
 "nbformat_minor": 5
}
