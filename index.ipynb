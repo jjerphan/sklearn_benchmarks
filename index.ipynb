{
 "cells": [
  {
   "cell_type": "code",
   "execution_count": null,
   "id": "39bc890a",
   "metadata": {},
   "outputs": [],
   "source": [
    "from sklearn_benchmarks.report import print_time_report, print_env_info, display_links_to_notebooks"
   ]
  },
  {
   "cell_type": "markdown",
   "id": "73e69dfb",
   "metadata": {},
   "source": [
    "# `scikit-learn` benchmarks reporting"
   ]
  },
  {
   "cell_type": "code",
   "execution_count": null,
   "id": "0619f640",
   "metadata": {},
   "outputs": [],
   "source": [
    "print_time_report()"
   ]
  },
  {
   "cell_type": "code",
   "execution_count": null,
   "id": "804d5b49",
   "metadata": {},
   "outputs": [],
   "source": [
    "print_env_info()"
   ]
  },
  {
   "cell_type": "code",
   "execution_count": null,
   "id": "dadf2ea6",
   "metadata": {},
   "outputs": [],
   "source": [
    "display_links_to_notebooks()"
   ]
  }
 ],
 "metadata": {
  "kernelspec": {
   "display_name": "Python 3",
   "language": "python",
   "name": "python3"
  },
  "language_info": {
   "codemirror_mode": {
    "name": "ipython",
    "version": 3
   },
   "file_extension": ".py",
   "mimetype": "text/x-python",
   "name": "python",
   "nbconvert_exporter": "python",
   "pygments_lexer": "ipython3",
   "version": "3.9.4"
  }
 },
 "nbformat": 4,
 "nbformat_minor": 5
}
