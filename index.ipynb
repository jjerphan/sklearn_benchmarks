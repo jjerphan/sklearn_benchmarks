{
 "cells": [
  {
   "cell_type": "code",
   "execution_count": null,
   "id": "fe7085ab",
   "metadata": {},
   "outputs": [],
   "source": [
    "from sklearn_benchmarks.utils import print_time_report, print_benchmark_environment_information, display_links_to_notebooks, display_time_last_run\n",
    "import pandas as pd\n",
    "pd.set_option('display.max_colwidth', None)\n",
    "pd.set_option('display.max_columns', None)\n",
    "pd.set_option('display.max_rows', None)"
   ]
  },
  {
   "cell_type": "markdown",
   "id": "73e69dfb",
   "metadata": {},
   "source": [
    "# sklearn_benchmarks reporting"
   ]
  },
  {
   "cell_type": "code",
   "execution_count": null,
   "id": "28076c1e",
   "metadata": {},
   "outputs": [],
   "source": [
    "display_time_last_run()"
   ]
  },
  {
   "cell_type": "code",
   "execution_count": null,
   "id": "dadf2ea6",
   "metadata": {},
   "outputs": [],
   "source": [
    "display_links_to_notebooks()"
   ]
  },
  {
   "cell_type": "code",
   "execution_count": null,
   "id": "0619f640",
   "metadata": {},
   "outputs": [],
   "source": [
    "print_time_report()"
   ]
  },
  {
   "cell_type": "code",
   "execution_count": null,
   "id": "804d5b49",
   "metadata": {},
   "outputs": [],
   "source": [
    "print_benchmark_environment_information()"
   ]
  }
 ],
 "metadata": {
  "kernelspec": {
   "display_name": "Python 3 (ipykernel)",
   "language": "python",
   "name": "python3"
  },
  "language_info": {
   "codemirror_mode": {
    "name": "ipython",
    "version": 3
   },
   "file_extension": ".py",
   "mimetype": "text/x-python",
   "name": "python",
   "nbconvert_exporter": "python",
   "pygments_lexer": "ipython3",
   "version": "3.9.6"
  }
 },
 "nbformat": 4,
 "nbformat_minor": 5
}
